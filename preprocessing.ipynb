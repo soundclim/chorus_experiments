{
 "cells": [
  {
   "cell_type": "code",
   "execution_count": 594,
   "id": "8cb66344-589a-4490-b79b-f2ba88130f00",
   "metadata": {},
   "outputs": [],
   "source": [
    "import random\n",
    "import numpy as np\n",
    "import pandas as pd\n",
    "import matplotlib.pyplot as plt\n",
    "\n",
    "from librosa import get_duration, get_samplerate\n",
    "from maad import sound\n",
    "from maad.util import power2dB, read_audacity_annot, format_features, overlay_rois\n",
    "\n",
    "from os import listdir\n",
    "from os.path import isfile, join\n",
    "\n",
    "from utils import plot_listen_examples\n",
    "from utils import roi2windowed, find_file\n",
    "\n",
    "from itertools import groupby\n",
    "from operator import itemgetter\n",
    "\n",
    "plt.rcParams[\"figure.figsize\"] = (19,7)\n",
    "\n",
    "pd.options.mode.chained_assignment = None  # default='warn'"
   ]
  },
  {
   "cell_type": "markdown",
   "id": "7ae7e43e-8e9a-4319-ab01-50e5e719e85e",
   "metadata": {},
   "source": [
    "# Read Labels:"
   ]
  },
  {
   "cell_type": "code",
   "execution_count": 612,
   "id": "d1a461fa-c580-4493-94be-3deec880bbb7",
   "metadata": {},
   "outputs": [],
   "source": [
    "def load_annotations(path_annot, verbose=False):\n",
    "    \"\"\" load all audacity annotations on a folder \"\"\"\n",
    "    annotation_files = [f for f in listdir(path_annot) if isfile(join(path_annot, f))]\n",
    "    if verbose:\n",
    "        print('Number of files:',len(annotation_files))\n",
    "        files = [i.split('.')[-1] for i in annotation_files]\n",
    "        print('Fortmats:',set(files))\n",
    "        print()\n",
    "        print('Frequency of files:',pd.Series(files).value_counts())\n",
    "        files_names = [i.split('.')[0] for i in annotation_files]\n",
    "        print()\n",
    "        print('Unique names:',len(files_names))\n",
    "\n",
    "    df_all_annotations_ = pd.DataFrame()\n",
    "    for file in annotation_files:\n",
    "       \n",
    "        #y, sr = sound.load(recordings_folder+file.split('.')[0]+'.wav')\n",
    "        #duration = round(get_duration(y=y, sr=sr))\n",
    "        #if sr != 22050:\n",
    "        #    print(sr, file)\n",
    "        #if duration != 60:\n",
    "        #    print(duration, file)\n",
    "        #Sxx_power, tn, fn, ext = sound.spectrogram(s, fs, nperseg=1024, noverlap=1024//2)\n",
    "        #Sxx_db = power2dB(Sxx_power) + 96 # why 96?\n",
    "        df_rois = read_audacity_annot(annotations_folder+file) \n",
    "        #df_rois = format_features(df_rois, tn, fn)\n",
    "        df_rois[['site','date']] = file.split('.txt')[0].split('_',1)\n",
    "        df_rois['fname'] = file.split('.')[0]\n",
    "        df_all_annotations_ = df_all_annotations_.append(df_rois,ignore_index=True) \n",
    "    df_all_annotations = df_all_annotations_.copy()\n",
    "    df_all_annotations['min_t'] = np.floor(df_all_annotations['min_t'])\n",
    "    df_all_annotations['max_t'] = np.ceil(df_all_annotations['max_t'])\n",
    "    df_all_annotations['date'] = df_all_annotations['date'].str.split('_').apply(lambda x: x[0]+x[1])\n",
    "    df_all_annotations['date'] = pd.to_datetime(df_all_annotations['date'])\n",
    "    df_all_annotations[['label','quality']] = df_all_annotations_['label'].str.split('_',expand=True)\n",
    "    df_all_annotations['label'] = df_all_annotations['label'].replace({'BPAFAB':'BOAFAB','PHUCUV':'PHYCUV'})\n",
    "    df_all_annotations['quality'] = df_all_annotations['quality'].replace({'FAR':'F','MED':'M','CLR':'C'})\n",
    "    df_all_annotations = df_all_annotations[['site', 'fname', 'date','label',\n",
    "                                             'quality']+ list(df_all_annotations.columns[1:-4])]\n",
    "\n",
    "    df_all_annotations = df_all_annotations.sort_values(by=['fname','min_t','max_t'],ignore_index=True)\n",
    "    df_all_annotations['label_duration'] = df_all_annotations['max_t'] - df_all_annotations['min_t']\n",
    "\n",
    "    return df_all_annotations\n",
    "\n",
    "def batch_format_rois(df, wl, prefix):\n",
    "    \"\"\" format rois to a fixed length window\"\"\"\n",
    "    rois_fmt = pd.DataFrame()\n",
    "    for idx, roi in df.iterrows():\n",
    "        roi_fmt = roi2windowed(wl, roi)\n",
    "        roi_fmt['fname'] = roi.fname\n",
    "        rois_fmt = rois_fmt.append(roi_fmt)\n",
    "\n",
    "    rois_fmt.reset_index(inplace=True, drop=True)\n",
    "    rois_fmt['fname_sample'] = prefix + rois_fmt.index.astype(str).str.zfill(4) + '.wav'\n",
    "    return rois_fmt\n",
    "\n",
    "def batch_write_samples(rois, wav_path, target_sr,path_save,flims,verbose=False):\n",
    "    for idx, roi in rois.iterrows():\n",
    "        if verbose:\n",
    "            print(find_file(roi.fname+'.wav', search_path=wav_path))\n",
    "        s, fs = sound.load(find_file(roi.fname, search_path=wav_path))\n",
    "        # format audio\n",
    "        s_trim = sound.trim(s, target_sr, min_t=roi.min_t, max_t=roi.max_t, pad=True)\n",
    "        s_resampled = sound.resample(s_trim, fs, target_sr)\n",
    "        s_filtered = maad.sound.select_bandwidth(s_resampled,target_sr,fcut=flims, forder=5, fname ='butter', ftype='bandpass')\n",
    "        s_normalized = sound.normalize(s_filtered, max_amp=0.7)\n",
    "        # create folder?\n",
    "        fname_save = os.path.join(path_save, roi.fname_sample)\n",
    "        # write\n",
    "        sound.write(fname_save, target_sr, s_normalized, bit_depth=16)\n",
    "        \n",
    "def planilha(n_sample, wl, prefix, check=False):\n",
    "    \n",
    "    df_planilha = pd.read_excel('INCT20955/raw/Planilha_INCT_Anderson_Selvino.xlsx',engine='openpyxl')\n",
    "    df_planilha = df_planilha[df_planilha['gravador']=='INCT20955']\n",
    "    df_planilha = df_planilha[['gravacao_id','Boa_fab', 'Phy_cuv']]\n",
    "    df_planilha['label'] = df_planilha.apply(lambda x: 'Absence' if x['Boa_fab']+x['Phy_cuv']==0 else 'Presence',axis=1)\n",
    "    gravacao_in_planilha = set(df_planilha[df_planilha['label']==1]['gravacao_id'])\n",
    "    absence_in_planilha = set(df_planilha[df_planilha['label']==1]['gravacao_id'])\n",
    "    df_planilha_absence = df_planilha[df_planilha['label']=='Absence']\n",
    "    df_planilha_absence = df_planilha_absence[['gravacao_id','label']]\n",
    "    df_planilha_absence['min_t'] = 0\n",
    "    # get durations\n",
    "    df_planilha_absence['max_t'] = 60\n",
    "    df_planilha_absence['min_f'] = np.nan\n",
    "    df_planilha_absence['max_f'] = np.nan\n",
    "    df_planilha_absence = df_planilha_absence.rename(columns={'gravacao_id':'fname'})\n",
    "    # df_planilha['absence'].value_counts()\n",
    "    # check if gravacao in planilha not annotated\n",
    "    # gravacao_in_planilha - \n",
    "    # check if annotated file not in planilha\n",
    "    # - gravacao_in_planilha\n",
    "    # check if some recording not identified in planilha\n",
    "    # recordings-(absence_in_planilha | gravacao_in_planilha)\n",
    "    # check if some recording not identified in planilha\n",
    "    # (absence_in_planilha | gravacao_in_planilha)-recordings\n",
    "    df_planilha_absence_windows = batch_format_rois(df_planilha_absence, wl=wl, prefix=prefix)\n",
    "\n",
    "    return df_planilha_absence_windows.sample(n=n_sample)#, ignore_index=True)\n",
    "\n",
    "def get_absence_slots_in_presence_files(df_all_annotations, max_val=60):\n",
    "    \n",
    "    df_absence_space = df_all_annotations.copy()\n",
    "    df_absence_space['segment_label'] = df_absence_space.apply(lambda x: list(range(int(x['min_t']),int(x['max_t']+1))),axis=1)\n",
    "    df_absence_space = df_absence_space.groupby(['site','fname','date'])['segment_label'].apply(sum).to_frame().reset_index()\n",
    "    df_absence_space['absence_space'] = df_absence_space['segment_label'].apply(lambda x: sorted(set(range(61))-set(x)))\n",
    "    absence_slots = []\n",
    "    for idx, x in df_absence_space.iterrows():\n",
    "        sub_segments = [list(map(itemgetter(1), g)) for k, g in groupby(enumerate(x['absence_space']), lambda i_x: i_x[0] - i_x[1])]\n",
    "        absence_slots.extend([[x['site'],x['fname'],x['date'],'Absence',min(i),max(i)] for i in sub_segments if len(i) >= wl])\n",
    "    df_absence_slots = pd.DataFrame(absence_slots,columns=['site','fname','date','label','min_t','max_t'])\n",
    "    df_absence_slots['label_duration'] = df_absence_slots['max_t']-df_absence_slots['min_t']\n",
    "    df_absence_slots['min_f'] = np.nan\n",
    "    df_absence_slots['max_f'] = np.nan\n",
    "    return df_absence_slots"
   ]
  },
  {
   "cell_type": "code",
   "execution_count": 613,
   "id": "6a9e07ee-716e-4982-b006-99f3bbd9a7cd",
   "metadata": {},
   "outputs": [],
   "source": [
    "def build_dataset(wav_path, annotation_path, wl, target_sr, flims,\n",
    "                  path_save, prefix='SAMPLE_', label=False, verbose=False):\n",
    "    \"\"\"\n",
    "    Parameters \n",
    "    ---------- \n",
    "    wav_file: str\n",
    "        Path of recording file. \n",
    "        We expect .wav format\n",
    "    annotation_file: str\n",
    "        Path of annotation file. \n",
    "        We expect an annotation if .txt format from Audacity\n",
    "    wl: int\n",
    "        Fixed window lenght to split the recording\n",
    "    sr: int\n",
    "        Sampling rate to convert the audio file\n",
    "    flims: list\n",
    "        List composed of [minimun_frequency, maximun_frequency] in Hz\n",
    "    label: str\n",
    "        If False return multiclass dataset, in other case return dataset of label specified\n",
    "        \n",
    "    Returns \n",
    "    ------- \n",
    "\n",
    "    \n",
    "    \n",
    "    Examples \n",
    "    -------- \n",
    "  \n",
    "    \n",
    "    \"\"\"\n",
    "    \n",
    "    # if 'wav' in wav_file\n",
    "    # one file\n",
    "    # if '.txt' in annotation_file\n",
    "    \n",
    "    df_all_annotations = load_annotations(path_annot=annotation_path, verbose=verbose)\n",
    "    if verbose:\n",
    "        print('read_all_annotations')\n",
    "    df_presence = batch_format_rois(df=df_all_annotations, wl=wl, prefix=prefix)\n",
    "    if verbose:\n",
    "        print('converted to rois')\n",
    "      \n",
    "    df_absence_slots = get_absence_slots_in_presence_files(df_all_annotations)\n",
    "    df_absence_in_presence_files = batch_format_rois(df=df_absence_slots, wl=wl, prefix=prefix)\n",
    "    \n",
    "    df_balanced = pd.concat([df_presence,df_absence_in_presence_files])\n",
    "\n",
    "    presence_samples = df_presence.shape[0]\n",
    "    absence_samples_in_presence_files = df_absence_in_presence_files.shape[0]\n",
    "    absence_samples_in_absence_files = presence_samples - absence_samples_in_presence_files\n",
    "    absence_samples_in_absence_files\n",
    "    \n",
    "    df_planilha_absence = planilha(n_sample=absence_samples_in_absence_files,wl=wl,prefix=prefix)\n",
    "    \n",
    "    df_balanced = pd.concat([df_balanced, df_planilha_absence])\n",
    "    \n",
    "    return df_balanced\n",
    "    \n",
    "    #batch_write_samples(df_balanced, wav_path=wav_path, target_sr=target_sr,path_save=path_save,verbose=False)\n",
    "    #if verbose:\n",
    "    #    print('saved')"
   ]
  },
  {
   "cell_type": "code",
   "execution_count": 614,
   "id": "d29b817b-a150-4e00-9c6d-857c67c37467",
   "metadata": {},
   "outputs": [
    {
     "name": "stdout",
     "output_type": "stream",
     "text": [
      "Number of files: 130\n",
      "Fortmats: {'txt'}\n",
      "\n",
      "Frequency of files: txt    130\n",
      "dtype: int64\n",
      "\n",
      "Unique names: 130\n",
      "read_all_annotations\n",
      "converted to rois\n"
     ]
    }
   ],
   "source": [
    "# Binary BOAFAB\n",
    "wl = 3\n",
    "sr = 22050\n",
    "flims = (100,2000)\n",
    "verbose = True\n",
    "recordings_folder = 'INCT20955/raw/recordings/'\n",
    "annotation_path = 'INCT20955/raw/bounding_boxes/'\n",
    "path_save='INCT20955/batch/'\n",
    "prefix='SAMPLE_'\n",
    "\n",
    "dk = build_dataset(wav_path=recordings_folder, annotation_path=annotation_path, wl=wl, target_sr=sr, flims=flims,\n",
    "                  path_save=path_save, prefix=prefix, verbose=verbose)"
   ]
  },
  {
   "cell_type": "code",
   "execution_count": 615,
   "id": "03eff7a7-80e1-4d34-bcd8-4d4473a72be3",
   "metadata": {},
   "outputs": [
    {
     "data": {
      "text/html": [
       "<div>\n",
       "<style scoped>\n",
       "    .dataframe tbody tr th:only-of-type {\n",
       "        vertical-align: middle;\n",
       "    }\n",
       "\n",
       "    .dataframe tbody tr th {\n",
       "        vertical-align: top;\n",
       "    }\n",
       "\n",
       "    .dataframe thead th {\n",
       "        text-align: right;\n",
       "    }\n",
       "</style>\n",
       "<table border=\"1\" class=\"dataframe\">\n",
       "  <thead>\n",
       "    <tr style=\"text-align: right;\">\n",
       "      <th></th>\n",
       "      <th>site</th>\n",
       "      <th>fname</th>\n",
       "      <th>date</th>\n",
       "      <th>label</th>\n",
       "      <th>quality</th>\n",
       "      <th>min_t</th>\n",
       "      <th>min_f</th>\n",
       "      <th>max_t</th>\n",
       "      <th>max_f</th>\n",
       "      <th>label_duration</th>\n",
       "      <th>fname_sample</th>\n",
       "    </tr>\n",
       "  </thead>\n",
       "  <tbody>\n",
       "    <tr>\n",
       "      <th>0</th>\n",
       "      <td>INCT20955</td>\n",
       "      <td>INCT20955_20190930_210000</td>\n",
       "      <td>2019-09-30 21:00:00</td>\n",
       "      <td>BOAFAB</td>\n",
       "      <td>F</td>\n",
       "      <td>13.5</td>\n",
       "      <td>NaN</td>\n",
       "      <td>16.5</td>\n",
       "      <td>NaN</td>\n",
       "      <td>2</td>\n",
       "      <td>SAMPLE_0000.wav</td>\n",
       "    </tr>\n",
       "    <tr>\n",
       "      <th>1</th>\n",
       "      <td>INCT20955</td>\n",
       "      <td>INCT20955_20190930_210000</td>\n",
       "      <td>2019-09-30 21:00:00</td>\n",
       "      <td>BOAFAB</td>\n",
       "      <td>F</td>\n",
       "      <td>19</td>\n",
       "      <td>NaN</td>\n",
       "      <td>22</td>\n",
       "      <td>NaN</td>\n",
       "      <td>1</td>\n",
       "      <td>SAMPLE_0001.wav</td>\n",
       "    </tr>\n",
       "    <tr>\n",
       "      <th>2</th>\n",
       "      <td>INCT20955</td>\n",
       "      <td>INCT20955_20190930_210000</td>\n",
       "      <td>2019-09-30 21:00:00</td>\n",
       "      <td>BOAFAB</td>\n",
       "      <td>F</td>\n",
       "      <td>24</td>\n",
       "      <td>NaN</td>\n",
       "      <td>27</td>\n",
       "      <td>NaN</td>\n",
       "      <td>1</td>\n",
       "      <td>SAMPLE_0002.wav</td>\n",
       "    </tr>\n",
       "    <tr>\n",
       "      <th>3</th>\n",
       "      <td>INCT20955</td>\n",
       "      <td>INCT20955_20190930_210000</td>\n",
       "      <td>2019-09-30 21:00:00</td>\n",
       "      <td>BOAFAB</td>\n",
       "      <td>F</td>\n",
       "      <td>29</td>\n",
       "      <td>NaN</td>\n",
       "      <td>32</td>\n",
       "      <td>NaN</td>\n",
       "      <td>1</td>\n",
       "      <td>SAMPLE_0003.wav</td>\n",
       "    </tr>\n",
       "    <tr>\n",
       "      <th>4</th>\n",
       "      <td>INCT20955</td>\n",
       "      <td>INCT20955_20190930_210000</td>\n",
       "      <td>2019-09-30 21:00:00</td>\n",
       "      <td>BOAFAB</td>\n",
       "      <td>F</td>\n",
       "      <td>32</td>\n",
       "      <td>NaN</td>\n",
       "      <td>35</td>\n",
       "      <td>NaN</td>\n",
       "      <td>1</td>\n",
       "      <td>SAMPLE_0004.wav</td>\n",
       "    </tr>\n",
       "    <tr>\n",
       "      <th>...</th>\n",
       "      <td>...</td>\n",
       "      <td>...</td>\n",
       "      <td>...</td>\n",
       "      <td>...</td>\n",
       "      <td>...</td>\n",
       "      <td>...</td>\n",
       "      <td>...</td>\n",
       "      <td>...</td>\n",
       "      <td>...</td>\n",
       "      <td>...</td>\n",
       "      <td>...</td>\n",
       "    </tr>\n",
       "    <tr>\n",
       "      <th>3958</th>\n",
       "      <td>NaN</td>\n",
       "      <td>INCT20955_20200211_001500</td>\n",
       "      <td>NaT</td>\n",
       "      <td>Absence</td>\n",
       "      <td>NaN</td>\n",
       "      <td>54</td>\n",
       "      <td>NaN</td>\n",
       "      <td>57</td>\n",
       "      <td>NaN</td>\n",
       "      <td>NaN</td>\n",
       "      <td>SAMPLE_3958.wav</td>\n",
       "    </tr>\n",
       "    <tr>\n",
       "      <th>2177</th>\n",
       "      <td>NaN</td>\n",
       "      <td>INCT20955_20191107_220000</td>\n",
       "      <td>NaT</td>\n",
       "      <td>Absence</td>\n",
       "      <td>NaN</td>\n",
       "      <td>51</td>\n",
       "      <td>NaN</td>\n",
       "      <td>54</td>\n",
       "      <td>NaN</td>\n",
       "      <td>NaN</td>\n",
       "      <td>SAMPLE_2177.wav</td>\n",
       "    </tr>\n",
       "    <tr>\n",
       "      <th>4230</th>\n",
       "      <td>NaN</td>\n",
       "      <td>INCT20955_20200213_043000</td>\n",
       "      <td>NaT</td>\n",
       "      <td>Absence</td>\n",
       "      <td>NaN</td>\n",
       "      <td>30</td>\n",
       "      <td>NaN</td>\n",
       "      <td>33</td>\n",
       "      <td>NaN</td>\n",
       "      <td>NaN</td>\n",
       "      <td>SAMPLE_4230.wav</td>\n",
       "    </tr>\n",
       "    <tr>\n",
       "      <th>4259</th>\n",
       "      <td>NaN</td>\n",
       "      <td>INCT20955_20200213_191500</td>\n",
       "      <td>NaT</td>\n",
       "      <td>Absence</td>\n",
       "      <td>NaN</td>\n",
       "      <td>57</td>\n",
       "      <td>NaN</td>\n",
       "      <td>60</td>\n",
       "      <td>NaN</td>\n",
       "      <td>NaN</td>\n",
       "      <td>SAMPLE_4259.wav</td>\n",
       "    </tr>\n",
       "    <tr>\n",
       "      <th>5459</th>\n",
       "      <td>NaN</td>\n",
       "      <td>INCT20955_20200331_181500</td>\n",
       "      <td>NaT</td>\n",
       "      <td>Absence</td>\n",
       "      <td>NaN</td>\n",
       "      <td>57</td>\n",
       "      <td>NaN</td>\n",
       "      <td>60</td>\n",
       "      <td>NaN</td>\n",
       "      <td>NaN</td>\n",
       "      <td>SAMPLE_5459.wav</td>\n",
       "    </tr>\n",
       "  </tbody>\n",
       "</table>\n",
       "<p>6246 rows × 11 columns</p>\n",
       "</div>"
      ],
      "text/plain": [
       "           site                      fname                date    label  \\\n",
       "0     INCT20955  INCT20955_20190930_210000 2019-09-30 21:00:00   BOAFAB   \n",
       "1     INCT20955  INCT20955_20190930_210000 2019-09-30 21:00:00   BOAFAB   \n",
       "2     INCT20955  INCT20955_20190930_210000 2019-09-30 21:00:00   BOAFAB   \n",
       "3     INCT20955  INCT20955_20190930_210000 2019-09-30 21:00:00   BOAFAB   \n",
       "4     INCT20955  INCT20955_20190930_210000 2019-09-30 21:00:00   BOAFAB   \n",
       "...         ...                        ...                 ...      ...   \n",
       "3958        NaN  INCT20955_20200211_001500                 NaT  Absence   \n",
       "2177        NaN  INCT20955_20191107_220000                 NaT  Absence   \n",
       "4230        NaN  INCT20955_20200213_043000                 NaT  Absence   \n",
       "4259        NaN  INCT20955_20200213_191500                 NaT  Absence   \n",
       "5459        NaN  INCT20955_20200331_181500                 NaT  Absence   \n",
       "\n",
       "     quality min_t min_f max_t max_f label_duration     fname_sample  \n",
       "0          F  13.5   NaN  16.5   NaN              2  SAMPLE_0000.wav  \n",
       "1          F    19   NaN    22   NaN              1  SAMPLE_0001.wav  \n",
       "2          F    24   NaN    27   NaN              1  SAMPLE_0002.wav  \n",
       "3          F    29   NaN    32   NaN              1  SAMPLE_0003.wav  \n",
       "4          F    32   NaN    35   NaN              1  SAMPLE_0004.wav  \n",
       "...      ...   ...   ...   ...   ...            ...              ...  \n",
       "3958     NaN    54   NaN    57   NaN            NaN  SAMPLE_3958.wav  \n",
       "2177     NaN    51   NaN    54   NaN            NaN  SAMPLE_2177.wav  \n",
       "4230     NaN    30   NaN    33   NaN            NaN  SAMPLE_4230.wav  \n",
       "4259     NaN    57   NaN    60   NaN            NaN  SAMPLE_4259.wav  \n",
       "5459     NaN    57   NaN    60   NaN            NaN  SAMPLE_5459.wav  \n",
       "\n",
       "[6246 rows x 11 columns]"
      ]
     },
     "execution_count": 615,
     "metadata": {},
     "output_type": "execute_result"
    }
   ],
   "source": [
    "dk\n"
   ]
  },
  {
   "cell_type": "code",
   "execution_count": null,
   "id": "d080a4e1-3ef9-41f7-87fd-becc87464ed7",
   "metadata": {},
   "outputs": [],
   "source": [
    "# Binary BOAFAB\n",
    "wl = 3\n",
    "sr = 22050\n",
    "flims = (100,2000)\n",
    "verbose = True\n",
    "recordings_folder = 'INCT20955/raw/recordings/'\n",
    "annotation_path = 'INCT20955/raw/bounding_boxes/'\n",
    "path_save='INCT20955/batch/'\n",
    "prefix='SAMPLE_'\n",
    "\n",
    "build_dataset(wav_path=recordings_folder, annotation_path=annotation_path, wl=wl, target_sr=sr, flims=flims,\n",
    "                  path_save=path_save, prefix=prefix, verbose=verbose)"
   ]
  },
  {
   "cell_type": "code",
   "execution_count": null,
   "id": "d2f5fab8-e427-4308-8440-b074e96f8420",
   "metadata": {},
   "outputs": [],
   "source": [
    "# Binary PHYCUV\n",
    "wl = 3\n",
    "sr = 22050\n",
    "flims = (300,2000)\n",
    "verbose=True\n",
    "recordings_folder = 'INCT20955/raw/recordings/'\n",
    "annotation_path = 'INCT20955/raw/bounding_boxes/'\n",
    "path_save='INCT20955/batch/'\n",
    "prefix='SAMPLE_'\n",
    "\n",
    "build_dataset(wav_path=recordings_folder, annotation_path=annotation_path, wl=wls, target_sr=sr, flims=flims,\n",
    "                  path_save=path_save, prefix=prefix, verbose=verbose)"
   ]
  },
  {
   "cell_type": "code",
   "execution_count": null,
   "id": "73bcfe04-2818-49cd-95ce-48096d7741f2",
   "metadata": {},
   "outputs": [],
   "source": [
    "# Multiclass\n",
    "wl = 3\n",
    "sr = 22050\n",
    "flims = (0,10000)\n",
    "verbose = True\n",
    "recordings_folder = 'INCT20955/raw/recordings/'\n",
    "annotation_path = 'INCT20955/raw/bounding_boxes/'\n",
    "path_save = 'INCT20955/batch/'\n",
    "prefix = 'SAMPLE_'\n",
    "\n",
    "build_dataset(wav_path=recordings_folder, annotation_path=annotation_path, wl=wls, target_sr=sr, flims=flims,\n",
    "                  path_save=path_save, prefix=prefix, verbose=verbose)"
   ]
  },
  {
   "cell_type": "code",
   "execution_count": null,
   "id": "47da86f4-6918-490a-8c1a-e197771638f8",
   "metadata": {},
   "outputs": [],
   "source": []
  },
  {
   "cell_type": "code",
   "execution_count": null,
   "id": "2daa709f-4f19-4545-a44a-b31d34458138",
   "metadata": {},
   "outputs": [],
   "source": []
  },
  {
   "cell_type": "code",
   "execution_count": null,
   "id": "0a842539-9141-46bc-b2d9-5c586b8365c0",
   "metadata": {},
   "outputs": [],
   "source": []
  },
  {
   "cell_type": "code",
   "execution_count": null,
   "id": "fd598a7b-3db9-4519-ba8d-394be347ee43",
   "metadata": {},
   "outputs": [],
   "source": []
  },
  {
   "cell_type": "code",
   "execution_count": null,
   "id": "b56f9e8b-f761-417e-9df5-60148892bc23",
   "metadata": {},
   "outputs": [],
   "source": [
    " "
   ]
  },
  {
   "cell_type": "code",
   "execution_count": 97,
   "id": "177d3d69-5013-4fc4-9798-e67f5a0ff9fb",
   "metadata": {},
   "outputs": [
    {
     "data": {
      "text/plain": [
       "count                             1004\n",
       "mean     2019-12-13 07:11:57.131473920\n",
       "min                2019-09-30 21:00:00\n",
       "25%                2019-11-07 20:15:00\n",
       "50%                2019-12-13 00:30:00\n",
       "75%                2020-01-20 21:30:00\n",
       "max                2020-03-31 21:15:00\n",
       "Name: date, dtype: object"
      ]
     },
     "execution_count": 97,
     "metadata": {},
     "output_type": "execute_result"
    }
   ],
   "source": [
    "df_all_annotations['date'].describe(datetime_is_numeric=True)"
   ]
  },
  {
   "cell_type": "code",
   "execution_count": 101,
   "id": "bfb9443d-a3e6-48a6-a91e-4d3d9494e65c",
   "metadata": {},
   "outputs": [
    {
     "data": {
      "text/plain": [
       "BOAFAB    52.6\n",
       "PHYCUV    37.6\n",
       "BOABIS     2.8\n",
       "BOAPRA     2.2\n",
       "UND        2.1\n",
       "SCIPER     2.1\n",
       "SPHSUR     0.5\n",
       "LEPLAT     0.1\n",
       "Name: label, dtype: float64"
      ]
     },
     "execution_count": 101,
     "metadata": {},
     "output_type": "execute_result"
    }
   ],
   "source": [
    "round(100*df_all_annotations['label'].value_counts(normalize=True),1)"
   ]
  },
  {
   "cell_type": "code",
   "execution_count": 102,
   "id": "09a010a0-319c-49f1-84d7-580ce108f242",
   "metadata": {},
   "outputs": [
    {
     "data": {
      "text/plain": [
       "<matplotlib.axes._subplots.AxesSubplot at 0x7fb1ff777c18>"
      ]
     },
     "execution_count": 102,
     "metadata": {},
     "output_type": "execute_result"
    },
    {
     "data": {
      "image/png": "[encoded data removed]",
      "text/plain": [
       "<Figure size 1368x504 with 1 Axes>"
      ]
     },
     "metadata": {},
     "output_type": "display_data"
    }
   ],
   "source": [
    "round(100*df_all_annotations['label'].value_counts(normalize=True),1).plot(kind='pie',autopct='%.2f', )"
   ]
  },
  {
   "cell_type": "code",
   "execution_count": 103,
   "id": "3c880f48-96b9-49a6-87b6-3d44c710fac2",
   "metadata": {},
   "outputs": [
    {
     "data": {
      "text/plain": [
       "dict_values([52.6, 37.6, 2.8, 2.2, 2.1, 2.1, 0.5, 0.1])"
      ]
     },
     "execution_count": 103,
     "metadata": {},
     "output_type": "execute_result"
    }
   ],
   "source": [
    "count = dict(round(100*df_all_annotations['label'].value_counts(normalize=True),1))\n",
    "count.keys()\n",
    "count.values()"
   ]
  },
  {
   "cell_type": "code",
   "execution_count": 104,
   "id": "36f7ccbf-94e3-4fc6-af99-b6eb1c46076b",
   "metadata": {},
   "outputs": [
    {
     "data": {
      "text/plain": [
       "['BOAFAB', 'PHYCUV', 'BOABIS', 'BOAPRA', 'UND', 'SCIPER', 'SPHSUR', 'LEPLAT']"
      ]
     },
     "execution_count": 104,
     "metadata": {},
     "output_type": "execute_result"
    }
   ],
   "source": [
    "list(count.keys())\n"
   ]
  },
  {
   "cell_type": "code",
   "execution_count": 105,
   "id": "cb614bfe-cf59-4b42-a6e8-92c90436323a",
   "metadata": {},
   "outputs": [
    {
     "data": {
      "image/png": "[encoded data removed]",
      "text/plain": [
       "<Figure size 1368x648 with 1 Axes>"
      ]
     },
     "metadata": {},
     "output_type": "display_data"
    }
   ],
   "source": [
    "fig, ax = plt.subplots(figsize=(19, 9), subplot_kw=dict(aspect=\"equal\"))\n",
    "\n",
    "recipe = list(count.keys())\n",
    "\n",
    "\n",
    "data = list(count.values())\n",
    "\n",
    "wedges, texts = ax.pie(data, wedgeprops=dict(width=0.5), startangle=-40)\n",
    "\n",
    "bbox_props = dict(boxstyle=\"square,pad=0.3\", fc=\"w\", ec=\"k\", lw=0.72)\n",
    "kw = dict(arrowprops=dict(arrowstyle=\"-\"),\n",
    "          bbox=bbox_props, zorder=0, va=\"center\")\n",
    "\n",
    "for i, p in enumerate(wedges):\n",
    "    ang = (p.theta2 - p.theta1)/2. + p.theta1\n",
    "    y = np.sin(np.deg2rad(ang))\n",
    "    x = np.cos(np.deg2rad(ang))\n",
    "    horizontalalignment = {-1: \"right\", 1: \"left\"}[int(np.sign(x))]\n",
    "    connectionstyle = \"angle,angleA=0,angleB={}\".format(ang)\n",
    "    kw[\"arrowprops\"].update({\"connectionstyle\": connectionstyle})\n",
    "    ax.annotate(recipe[i], xy=(x, y), xytext=(1.35*np.sign(x), 1.4*y),\n",
    "                horizontalalignment=horizontalalignment, **kw)\n",
    "\n",
    "ax.set_title(\"Matplotlib bakery: A donut\")\n",
    "\n",
    "plt.show()"
   ]
  },
  {
   "cell_type": "code",
   "execution_count": 106,
   "id": "110189ed-3ae1-433c-9bfe-0d16f3bd31fc",
   "metadata": {},
   "outputs": [
    {
     "ename": "NameError",
     "evalue": "name 'df' is not defined",
     "output_type": "error",
     "traceback": [
      "\u001b[0;31m---------------------------------------------------------------------------\u001b[0m",
      "\u001b[0;31mNameError\u001b[0m                                 Traceback (most recent call last)",
      "\u001b[0;32m<ipython-input-106-d331378851f0>\u001b[0m in \u001b[0;36m<module>\u001b[0;34m\u001b[0m\n\u001b[0;32m----> 1\u001b[0;31m \u001b[0mdf\u001b[0m\u001b[0;34m.\u001b[0m\u001b[0mplot\u001b[0m\u001b[0;34m.\u001b[0m\u001b[0mpie\u001b[0m\u001b[0;34m(\u001b[0m\u001b[0my\u001b[0m\u001b[0;34m=\u001b[0m\u001b[0;34m'mass'\u001b[0m\u001b[0;34m,\u001b[0m \u001b[0mfigsize\u001b[0m\u001b[0;34m=\u001b[0m\u001b[0;34m(\u001b[0m\u001b[0;36m5\u001b[0m\u001b[0;34m,\u001b[0m \u001b[0;36m5\u001b[0m\u001b[0;34m)\u001b[0m\u001b[0;34m)\u001b[0m\u001b[0;34m\u001b[0m\u001b[0;34m\u001b[0m\u001b[0m\n\u001b[0m",
      "\u001b[0;31mNameError\u001b[0m: name 'df' is not defined"
     ]
    }
   ],
   "source": [
    "df.plot.pie(y='mass', figsize=(5, 5))"
   ]
  },
  {
   "cell_type": "code",
   "execution_count": null,
   "id": "87ab1bba-25fd-4ede-b4ae-6a2aaad91127",
   "metadata": {},
   "outputs": [],
   "source": []
  },
  {
   "cell_type": "code",
   "execution_count": 108,
   "id": "65cee36a-d695-4681-bb11-f441c0bb662c",
   "metadata": {},
   "outputs": [
    {
     "data": {
      "text/plain": [
       "1    68\n",
       "2    60\n",
       "6     1\n",
       "4     1\n",
       "Name: label, dtype: int64"
      ]
     },
     "execution_count": 108,
     "metadata": {},
     "output_type": "execute_result"
    }
   ],
   "source": [
    "# overlap\n",
    "df_overlaps = df_all_annotations.groupby(['date']).agg({'label':lambda x: len(set(x))})\n",
    "df_overlaps['label'].value_counts()"
   ]
  },
  {
   "cell_type": "code",
   "execution_count": 109,
   "id": "0af5d667-259f-49d8-b73d-a8bffaee0061",
   "metadata": {},
   "outputs": [
    {
     "data": {
      "text/plain": [
       "F    62.0\n",
       "M    37.1\n",
       "C     0.9\n",
       "Name: quality, dtype: float64"
      ]
     },
     "execution_count": 109,
     "metadata": {},
     "output_type": "execute_result"
    }
   ],
   "source": [
    "# FAR, MEDIUM, CLEAR\n",
    "round(100*df_all_annotations['quality'].value_counts(normalize=True),1)"
   ]
  },
  {
   "cell_type": "code",
   "execution_count": 110,
   "id": "c0a0d96b-d336-4806-b2d0-916662bb88ce",
   "metadata": {},
   "outputs": [
    {
     "data": {
      "text/plain": [
       "label   quality\n",
       "BOABIS  C            4\n",
       "        F            7\n",
       "        M           17\n",
       "BOAFAB  C            4\n",
       "        F          238\n",
       "        M          286\n",
       "BOAPRA  F           21\n",
       "        M            1\n",
       "LEPLAT  F            1\n",
       "PHYCUV  F          323\n",
       "        M           55\n",
       "SCIPER  F           21\n",
       "SPHSUR  F            5\n",
       "UND     C            1\n",
       "        F            3\n",
       "        M           12\n",
       "Name: site, dtype: int64"
      ]
     },
     "execution_count": 110,
     "metadata": {},
     "output_type": "execute_result"
    }
   ],
   "source": [
    "df_all_annotations.groupby(['label','quality'])['site'].count()"
   ]
  },
  {
   "cell_type": "code",
   "execution_count": 111,
   "id": "458b60c4-1982-4888-8708-93e3dd54de21",
   "metadata": {},
   "outputs": [
    {
     "data": {
      "text/plain": [
       "Index(['site', 'fname', 'date', 'label', 'quality', 'min_t', 'min_f', 'max_t',\n",
       "       'max_f', 'label_duration'],\n",
       "      dtype='object')"
      ]
     },
     "execution_count": 111,
     "metadata": {},
     "output_type": "execute_result"
    }
   ],
   "source": [
    "df_all_annotations.columns"
   ]
  },
  {
   "cell_type": "code",
   "execution_count": 112,
   "id": "d0f944d2-627c-4d25-a2d4-709f6dae7574",
   "metadata": {},
   "outputs": [
    {
     "data": {
      "text/html": [
       "<div>\n",
       "<style scoped>\n",
       "    .dataframe tbody tr th:only-of-type {\n",
       "        vertical-align: middle;\n",
       "    }\n",
       "\n",
       "    .dataframe tbody tr th {\n",
       "        vertical-align: top;\n",
       "    }\n",
       "\n",
       "    .dataframe thead th {\n",
       "        text-align: right;\n",
       "    }\n",
       "</style>\n",
       "<table border=\"1\" class=\"dataframe\">\n",
       "  <thead>\n",
       "    <tr style=\"text-align: right;\">\n",
       "      <th></th>\n",
       "      <th>min_t</th>\n",
       "      <th>max_t</th>\n",
       "      <th>label_duration</th>\n",
       "    </tr>\n",
       "  </thead>\n",
       "  <tbody>\n",
       "    <tr>\n",
       "      <th>count</th>\n",
       "      <td>1004.000000</td>\n",
       "      <td>1004.000000</td>\n",
       "      <td>1004.000000</td>\n",
       "    </tr>\n",
       "    <tr>\n",
       "      <th>mean</th>\n",
       "      <td>25.010956</td>\n",
       "      <td>33.367531</td>\n",
       "      <td>8.356574</td>\n",
       "    </tr>\n",
       "    <tr>\n",
       "      <th>std</th>\n",
       "      <td>18.348484</td>\n",
       "      <td>18.805649</td>\n",
       "      <td>15.833642</td>\n",
       "    </tr>\n",
       "    <tr>\n",
       "      <th>min</th>\n",
       "      <td>0.000000</td>\n",
       "      <td>1.000000</td>\n",
       "      <td>1.000000</td>\n",
       "    </tr>\n",
       "    <tr>\n",
       "      <th>25%</th>\n",
       "      <td>8.000000</td>\n",
       "      <td>17.000000</td>\n",
       "      <td>1.000000</td>\n",
       "    </tr>\n",
       "    <tr>\n",
       "      <th>50%</th>\n",
       "      <td>25.000000</td>\n",
       "      <td>33.000000</td>\n",
       "      <td>2.000000</td>\n",
       "    </tr>\n",
       "    <tr>\n",
       "      <th>75%</th>\n",
       "      <td>41.000000</td>\n",
       "      <td>51.000000</td>\n",
       "      <td>5.250000</td>\n",
       "    </tr>\n",
       "    <tr>\n",
       "      <th>max</th>\n",
       "      <td>59.000000</td>\n",
       "      <td>61.000000</td>\n",
       "      <td>61.000000</td>\n",
       "    </tr>\n",
       "  </tbody>\n",
       "</table>\n",
       "</div>"
      ],
      "text/plain": [
       "             min_t        max_t  label_duration\n",
       "count  1004.000000  1004.000000     1004.000000\n",
       "mean     25.010956    33.367531        8.356574\n",
       "std      18.348484    18.805649       15.833642\n",
       "min       0.000000     1.000000        1.000000\n",
       "25%       8.000000    17.000000        1.000000\n",
       "50%      25.000000    33.000000        2.000000\n",
       "75%      41.000000    51.000000        5.250000\n",
       "max      59.000000    61.000000       61.000000"
      ]
     },
     "execution_count": 112,
     "metadata": {},
     "output_type": "execute_result"
    }
   ],
   "source": [
    "df_all_annotations[['min_t', 'max_t', 'label_duration']].describe()"
   ]
  },
  {
   "cell_type": "code",
   "execution_count": 114,
   "id": "9445b984-eefe-4d17-ace7-d3451db29591",
   "metadata": {},
   "outputs": [
    {
     "name": "stdout",
     "output_type": "stream",
     "text": [
      "Total duration of recordings: 7800\n",
      "Total labels duration: 8390.0\n",
      "Percentage of labels: 107.6\n"
     ]
    }
   ],
   "source": [
    "total_label_duration = df_all_annotations['label_duration'].sum()  \n",
    "total_recording_time = df_all_annotations[['date']].drop_duplicates().shape[0]*60\n",
    "print('Total duration of recordings:', total_recording_time)\n",
    "print('Total labels duration:', total_label_duration)\n",
    "\n",
    "print('Percentage of labels:', round(100*total_label_duration/total_recording_time,1))"
   ]
  },
  {
   "cell_type": "code",
   "execution_count": 115,
   "id": "3b578d39-6af4-40dc-b445-19576dec9734",
   "metadata": {},
   "outputs": [
    {
     "data": {
      "text/plain": [
       "label\n",
       "BOABIS      36.0\n",
       "BOAFAB    5595.0\n",
       "BOAPRA      30.0\n",
       "LEPLAT       1.0\n",
       "PHYCUV    2666.0\n",
       "SCIPER      28.0\n",
       "SPHSUR       7.0\n",
       "UND         27.0\n",
       "Name: label_duration, dtype: float32"
      ]
     },
     "execution_count": 115,
     "metadata": {},
     "output_type": "execute_result"
    }
   ],
   "source": [
    "df_all_annotations.groupby(['label'])['label_duration'].sum()"
   ]
  },
  {
   "cell_type": "code",
   "execution_count": 117,
   "id": "7fe9c496-6260-4a54-8e5e-8f7754dc25c6",
   "metadata": {},
   "outputs": [
    {
     "data": {
      "text/plain": [
       "date                 label \n",
       "2019-09-30 21:00:00  BOAFAB    11.0\n",
       "2019-10-11 21:45:00  BOAFAB    60.0\n",
       "                     PHYCUV    32.0\n",
       "2019-10-11 22:30:00  PHYCUV     9.0\n",
       "2019-10-11 23:30:00  BOAFAB    36.0\n",
       "                               ... \n",
       "2020-03-14 21:15:00  BOAFAB    60.0\n",
       "2020-03-31 21:15:00  BOABIS     2.0\n",
       "                     BOAPRA     7.0\n",
       "                     SPHSUR     2.0\n",
       "                     UND        3.0\n",
       "Name: label_duration, Length: 198, dtype: float32"
      ]
     },
     "execution_count": 117,
     "metadata": {},
     "output_type": "execute_result"
    }
   ],
   "source": [
    "df_all_annotations.groupby(['date', 'label'])['label_duration'].sum()"
   ]
  },
  {
   "cell_type": "code",
   "execution_count": 116,
   "id": "f4b920df-b23c-4476-9c16-31337810ebac",
   "metadata": {},
   "outputs": [
    {
     "data": {
      "text/plain": [
       "date                 quality\n",
       "2019-09-30 21:00:00  F          11.0\n",
       "2019-10-11 21:45:00  F          19.0\n",
       "                     M          73.0\n",
       "2019-10-11 22:30:00  F           9.0\n",
       "2019-10-11 23:30:00  F          36.0\n",
       "                                ... \n",
       "2020-03-14 19:15:00  M          60.0\n",
       "2020-03-14 20:15:00  M          60.0\n",
       "2020-03-14 21:15:00  M          60.0\n",
       "2020-03-31 21:15:00  C           1.0\n",
       "                     F          10.0\n",
       "Name: label_duration, Length: 201, dtype: float32"
      ]
     },
     "execution_count": 116,
     "metadata": {},
     "output_type": "execute_result"
    }
   ],
   "source": [
    "df_all_annotations.groupby(['date', 'quality'])['label_duration'].sum()"
   ]
  },
  {
   "cell_type": "code",
   "execution_count": null,
   "id": "5220e4fb-cf36-413a-840f-ddba5ff9809d",
   "metadata": {},
   "outputs": [],
   "source": []
  },
  {
   "cell_type": "code",
   "execution_count": null,
   "id": "f4936495-7db2-4ee4-8caa-1077a9f2aa40",
   "metadata": {},
   "outputs": [],
   "source": []
  },
  {
   "cell_type": "code",
   "execution_count": null,
   "id": "db06bd01-7a35-4e0f-bc25-8a98abae5980",
   "metadata": {},
   "outputs": [],
   "source": []
  },
  {
   "cell_type": "code",
   "execution_count": 118,
   "id": "f56df20d-1af6-41f7-9bcf-09fafac32a5b",
   "metadata": {},
   "outputs": [
    {
     "ename": "NameError",
     "evalue": "name 'df_boafab' is not defined",
     "output_type": "error",
     "traceback": [
      "\u001b[0;31m---------------------------------------------------------------------------\u001b[0m",
      "\u001b[0;31mNameError\u001b[0m                                 Traceback (most recent call last)",
      "\u001b[0;32m<ipython-input-118-9770a356cd02>\u001b[0m in \u001b[0;36m<module>\u001b[0;34m\u001b[0m\n\u001b[0;32m----> 1\u001b[0;31m \u001b[0mdf_boafab\u001b[0m\u001b[0;34m.\u001b[0m\u001b[0mhead\u001b[0m\u001b[0;34m(\u001b[0m\u001b[0;34m)\u001b[0m\u001b[0;34m\u001b[0m\u001b[0;34m\u001b[0m\u001b[0m\n\u001b[0m",
      "\u001b[0;31mNameError\u001b[0m: name 'df_boafab' is not defined"
     ]
    }
   ],
   "source": []
  },
  {
   "cell_type": "code",
   "execution_count": 120,
   "id": "e7209090-b754-48d4-ab75-9c23b5777db4",
   "metadata": {},
   "outputs": [],
   "source": [
    "df_boafab = df_all_annotations[(df_all_annotations['label']=='BOAFAB')&(df_all_annotations['quality'].isin(['C','M']))]"
   ]
  },
  {
   "cell_type": "code",
   "execution_count": 121,
   "id": "42913e92-4a00-4bcf-a84d-eeef45198c12",
   "metadata": {},
   "outputs": [
    {
     "data": {
      "text/html": [
       "<div>\n",
       "<style scoped>\n",
       "    .dataframe tbody tr th:only-of-type {\n",
       "        vertical-align: middle;\n",
       "    }\n",
       "\n",
       "    .dataframe tbody tr th {\n",
       "        vertical-align: top;\n",
       "    }\n",
       "\n",
       "    .dataframe thead th {\n",
       "        text-align: right;\n",
       "    }\n",
       "</style>\n",
       "<table border=\"1\" class=\"dataframe\">\n",
       "  <thead>\n",
       "    <tr style=\"text-align: right;\">\n",
       "      <th></th>\n",
       "      <th>site</th>\n",
       "      <th>fname</th>\n",
       "      <th>date</th>\n",
       "      <th>label</th>\n",
       "      <th>quality</th>\n",
       "      <th>min_t</th>\n",
       "      <th>min_f</th>\n",
       "      <th>max_t</th>\n",
       "      <th>max_f</th>\n",
       "      <th>label_duration</th>\n",
       "    </tr>\n",
       "  </thead>\n",
       "  <tbody>\n",
       "    <tr>\n",
       "      <th>26</th>\n",
       "      <td>INCT20955</td>\n",
       "      <td>INCT20955_20191011_214500</td>\n",
       "      <td>2019-10-11 21:45:00</td>\n",
       "      <td>BOAFAB</td>\n",
       "      <td>M</td>\n",
       "      <td>0.0</td>\n",
       "      <td>NaN</td>\n",
       "      <td>60.0</td>\n",
       "      <td>NaN</td>\n",
       "      <td>60.0</td>\n",
       "    </tr>\n",
       "    <tr>\n",
       "      <th>48</th>\n",
       "      <td>INCT20955</td>\n",
       "      <td>INCT20955_20191012_033000</td>\n",
       "      <td>2019-10-12 03:30:00</td>\n",
       "      <td>BOAFAB</td>\n",
       "      <td>M</td>\n",
       "      <td>37.0</td>\n",
       "      <td>NaN</td>\n",
       "      <td>38.0</td>\n",
       "      <td>NaN</td>\n",
       "      <td>1.0</td>\n",
       "    </tr>\n",
       "    <tr>\n",
       "      <th>49</th>\n",
       "      <td>INCT20955</td>\n",
       "      <td>INCT20955_20191012_033000</td>\n",
       "      <td>2019-10-12 03:30:00</td>\n",
       "      <td>BOAFAB</td>\n",
       "      <td>M</td>\n",
       "      <td>39.0</td>\n",
       "      <td>NaN</td>\n",
       "      <td>41.0</td>\n",
       "      <td>NaN</td>\n",
       "      <td>2.0</td>\n",
       "    </tr>\n",
       "    <tr>\n",
       "      <th>51</th>\n",
       "      <td>INCT20955</td>\n",
       "      <td>INCT20955_20191012_033000</td>\n",
       "      <td>2019-10-12 03:30:00</td>\n",
       "      <td>BOAFAB</td>\n",
       "      <td>M</td>\n",
       "      <td>41.0</td>\n",
       "      <td>NaN</td>\n",
       "      <td>44.0</td>\n",
       "      <td>NaN</td>\n",
       "      <td>3.0</td>\n",
       "    </tr>\n",
       "    <tr>\n",
       "      <th>52</th>\n",
       "      <td>INCT20955</td>\n",
       "      <td>INCT20955_20191012_033000</td>\n",
       "      <td>2019-10-12 03:30:00</td>\n",
       "      <td>BOAFAB</td>\n",
       "      <td>M</td>\n",
       "      <td>44.0</td>\n",
       "      <td>NaN</td>\n",
       "      <td>49.0</td>\n",
       "      <td>NaN</td>\n",
       "      <td>5.0</td>\n",
       "    </tr>\n",
       "  </tbody>\n",
       "</table>\n",
       "</div>"
      ],
      "text/plain": [
       "         site                      fname                date   label quality  \\\n",
       "26  INCT20955  INCT20955_20191011_214500 2019-10-11 21:45:00  BOAFAB       M   \n",
       "48  INCT20955  INCT20955_20191012_033000 2019-10-12 03:30:00  BOAFAB       M   \n",
       "49  INCT20955  INCT20955_20191012_033000 2019-10-12 03:30:00  BOAFAB       M   \n",
       "51  INCT20955  INCT20955_20191012_033000 2019-10-12 03:30:00  BOAFAB       M   \n",
       "52  INCT20955  INCT20955_20191012_033000 2019-10-12 03:30:00  BOAFAB       M   \n",
       "\n",
       "    min_t  min_f  max_t  max_f  label_duration  \n",
       "26    0.0    NaN   60.0    NaN            60.0  \n",
       "48   37.0    NaN   38.0    NaN             1.0  \n",
       "49   39.0    NaN   41.0    NaN             2.0  \n",
       "51   41.0    NaN   44.0    NaN             3.0  \n",
       "52   44.0    NaN   49.0    NaN             5.0  "
      ]
     },
     "execution_count": 121,
     "metadata": {},
     "output_type": "execute_result"
    }
   ],
   "source": [
    "df_boafab.head()"
   ]
  },
  {
   "cell_type": "code",
   "execution_count": 122,
   "id": "e1d079c1-82f9-4087-ba5f-e1f118967c4c",
   "metadata": {},
   "outputs": [
    {
     "data": {
      "text/html": [
       "<div>\n",
       "<style scoped>\n",
       "    .dataframe tbody tr th:only-of-type {\n",
       "        vertical-align: middle;\n",
       "    }\n",
       "\n",
       "    .dataframe tbody tr th {\n",
       "        vertical-align: top;\n",
       "    }\n",
       "\n",
       "    .dataframe thead th {\n",
       "        text-align: right;\n",
       "    }\n",
       "</style>\n",
       "<table border=\"1\" class=\"dataframe\">\n",
       "  <thead>\n",
       "    <tr style=\"text-align: right;\">\n",
       "      <th></th>\n",
       "      <th>min_t</th>\n",
       "      <th>max_t</th>\n",
       "      <th>label_duration</th>\n",
       "    </tr>\n",
       "  </thead>\n",
       "  <tbody>\n",
       "    <tr>\n",
       "      <th>count</th>\n",
       "      <td>290.000000</td>\n",
       "      <td>290.000000</td>\n",
       "      <td>290.000000</td>\n",
       "    </tr>\n",
       "    <tr>\n",
       "      <th>mean</th>\n",
       "      <td>23.110344</td>\n",
       "      <td>38.627586</td>\n",
       "      <td>15.517241</td>\n",
       "    </tr>\n",
       "    <tr>\n",
       "      <th>std</th>\n",
       "      <td>19.266882</td>\n",
       "      <td>18.735989</td>\n",
       "      <td>22.616589</td>\n",
       "    </tr>\n",
       "    <tr>\n",
       "      <th>min</th>\n",
       "      <td>0.000000</td>\n",
       "      <td>1.000000</td>\n",
       "      <td>1.000000</td>\n",
       "    </tr>\n",
       "    <tr>\n",
       "      <th>25%</th>\n",
       "      <td>1.250000</td>\n",
       "      <td>23.000000</td>\n",
       "      <td>1.000000</td>\n",
       "    </tr>\n",
       "    <tr>\n",
       "      <th>50%</th>\n",
       "      <td>22.000000</td>\n",
       "      <td>40.500000</td>\n",
       "      <td>3.000000</td>\n",
       "    </tr>\n",
       "    <tr>\n",
       "      <th>75%</th>\n",
       "      <td>39.750000</td>\n",
       "      <td>60.000000</td>\n",
       "      <td>18.000000</td>\n",
       "    </tr>\n",
       "    <tr>\n",
       "      <th>max</th>\n",
       "      <td>59.000000</td>\n",
       "      <td>61.000000</td>\n",
       "      <td>61.000000</td>\n",
       "    </tr>\n",
       "  </tbody>\n",
       "</table>\n",
       "</div>"
      ],
      "text/plain": [
       "            min_t       max_t  label_duration\n",
       "count  290.000000  290.000000      290.000000\n",
       "mean    23.110344   38.627586       15.517241\n",
       "std     19.266882   18.735989       22.616589\n",
       "min      0.000000    1.000000        1.000000\n",
       "25%      1.250000   23.000000        1.000000\n",
       "50%     22.000000   40.500000        3.000000\n",
       "75%     39.750000   60.000000       18.000000\n",
       "max     59.000000   61.000000       61.000000"
      ]
     },
     "execution_count": 122,
     "metadata": {},
     "output_type": "execute_result"
    }
   ],
   "source": [
    "df_boafab[['min_t', 'max_t', 'label_duration']].describe()"
   ]
  },
  {
   "cell_type": "code",
   "execution_count": 123,
   "id": "af54e15a-4611-4686-99ac-5d170e4a5255",
   "metadata": {},
   "outputs": [
    {
     "data": {
      "text/plain": [
       "<matplotlib.axes._subplots.AxesSubplot at 0x7fb1f6e5cb00>"
      ]
     },
     "execution_count": 123,
     "metadata": {},
     "output_type": "execute_result"
    },
    {
     "data": {
      "image/png": "[encoded data removed]",
      "text/plain": [
       "<Figure size 1368x504 with 1 Axes>"
      ]
     },
     "metadata": {
      "needs_background": "light"
     },
     "output_type": "display_data"
    }
   ],
   "source": [
    "df_boafab['label_duration'].hist(bins=30)"
   ]
  },
  {
   "cell_type": "code",
   "execution_count": 124,
   "id": "33c01166-b3f9-42fa-854b-01d8183c4492",
   "metadata": {},
   "outputs": [
    {
     "data": {
      "text/html": [
       "<div>\n",
       "<style scoped>\n",
       "    .dataframe tbody tr th:only-of-type {\n",
       "        vertical-align: middle;\n",
       "    }\n",
       "\n",
       "    .dataframe tbody tr th {\n",
       "        vertical-align: top;\n",
       "    }\n",
       "\n",
       "    .dataframe thead th {\n",
       "        text-align: right;\n",
       "    }\n",
       "</style>\n",
       "<table border=\"1\" class=\"dataframe\">\n",
       "  <thead>\n",
       "    <tr style=\"text-align: right;\">\n",
       "      <th></th>\n",
       "      <th>site</th>\n",
       "      <th>fname</th>\n",
       "      <th>date</th>\n",
       "      <th>label</th>\n",
       "      <th>quality</th>\n",
       "      <th>min_t</th>\n",
       "      <th>min_f</th>\n",
       "      <th>max_t</th>\n",
       "      <th>max_f</th>\n",
       "      <th>label_duration</th>\n",
       "    </tr>\n",
       "  </thead>\n",
       "  <tbody>\n",
       "    <tr>\n",
       "      <th>26</th>\n",
       "      <td>INCT20955</td>\n",
       "      <td>INCT20955_20191011_214500</td>\n",
       "      <td>2019-10-11 21:45:00</td>\n",
       "      <td>BOAFAB</td>\n",
       "      <td>M</td>\n",
       "      <td>0.0</td>\n",
       "      <td>NaN</td>\n",
       "      <td>60.0</td>\n",
       "      <td>NaN</td>\n",
       "      <td>60.0</td>\n",
       "    </tr>\n",
       "    <tr>\n",
       "      <th>48</th>\n",
       "      <td>INCT20955</td>\n",
       "      <td>INCT20955_20191012_033000</td>\n",
       "      <td>2019-10-12 03:30:00</td>\n",
       "      <td>BOAFAB</td>\n",
       "      <td>M</td>\n",
       "      <td>37.0</td>\n",
       "      <td>NaN</td>\n",
       "      <td>38.0</td>\n",
       "      <td>NaN</td>\n",
       "      <td>1.0</td>\n",
       "    </tr>\n",
       "    <tr>\n",
       "      <th>49</th>\n",
       "      <td>INCT20955</td>\n",
       "      <td>INCT20955_20191012_033000</td>\n",
       "      <td>2019-10-12 03:30:00</td>\n",
       "      <td>BOAFAB</td>\n",
       "      <td>M</td>\n",
       "      <td>39.0</td>\n",
       "      <td>NaN</td>\n",
       "      <td>41.0</td>\n",
       "      <td>NaN</td>\n",
       "      <td>2.0</td>\n",
       "    </tr>\n",
       "    <tr>\n",
       "      <th>51</th>\n",
       "      <td>INCT20955</td>\n",
       "      <td>INCT20955_20191012_033000</td>\n",
       "      <td>2019-10-12 03:30:00</td>\n",
       "      <td>BOAFAB</td>\n",
       "      <td>M</td>\n",
       "      <td>41.0</td>\n",
       "      <td>NaN</td>\n",
       "      <td>44.0</td>\n",
       "      <td>NaN</td>\n",
       "      <td>3.0</td>\n",
       "    </tr>\n",
       "    <tr>\n",
       "      <th>52</th>\n",
       "      <td>INCT20955</td>\n",
       "      <td>INCT20955_20191012_033000</td>\n",
       "      <td>2019-10-12 03:30:00</td>\n",
       "      <td>BOAFAB</td>\n",
       "      <td>M</td>\n",
       "      <td>44.0</td>\n",
       "      <td>NaN</td>\n",
       "      <td>49.0</td>\n",
       "      <td>NaN</td>\n",
       "      <td>5.0</td>\n",
       "    </tr>\n",
       "    <tr>\n",
       "      <th>...</th>\n",
       "      <td>...</td>\n",
       "      <td>...</td>\n",
       "      <td>...</td>\n",
       "      <td>...</td>\n",
       "      <td>...</td>\n",
       "      <td>...</td>\n",
       "      <td>...</td>\n",
       "      <td>...</td>\n",
       "      <td>...</td>\n",
       "      <td>...</td>\n",
       "    </tr>\n",
       "    <tr>\n",
       "      <th>989</th>\n",
       "      <td>INCT20955</td>\n",
       "      <td>INCT20955_20200314_201500</td>\n",
       "      <td>2020-03-14 20:15:00</td>\n",
       "      <td>BOAFAB</td>\n",
       "      <td>M</td>\n",
       "      <td>46.0</td>\n",
       "      <td>NaN</td>\n",
       "      <td>60.0</td>\n",
       "      <td>NaN</td>\n",
       "      <td>14.0</td>\n",
       "    </tr>\n",
       "    <tr>\n",
       "      <th>990</th>\n",
       "      <td>INCT20955</td>\n",
       "      <td>INCT20955_20200314_211500</td>\n",
       "      <td>2020-03-14 21:15:00</td>\n",
       "      <td>BOAFAB</td>\n",
       "      <td>M</td>\n",
       "      <td>34.0</td>\n",
       "      <td>NaN</td>\n",
       "      <td>39.0</td>\n",
       "      <td>NaN</td>\n",
       "      <td>5.0</td>\n",
       "    </tr>\n",
       "    <tr>\n",
       "      <th>991</th>\n",
       "      <td>INCT20955</td>\n",
       "      <td>INCT20955_20200314_211500</td>\n",
       "      <td>2020-03-14 21:15:00</td>\n",
       "      <td>BOAFAB</td>\n",
       "      <td>M</td>\n",
       "      <td>39.0</td>\n",
       "      <td>NaN</td>\n",
       "      <td>60.0</td>\n",
       "      <td>NaN</td>\n",
       "      <td>21.0</td>\n",
       "    </tr>\n",
       "    <tr>\n",
       "      <th>992</th>\n",
       "      <td>INCT20955</td>\n",
       "      <td>INCT20955_20200314_211500</td>\n",
       "      <td>2020-03-14 21:15:00</td>\n",
       "      <td>BOAFAB</td>\n",
       "      <td>M</td>\n",
       "      <td>0.0</td>\n",
       "      <td>NaN</td>\n",
       "      <td>28.0</td>\n",
       "      <td>NaN</td>\n",
       "      <td>28.0</td>\n",
       "    </tr>\n",
       "    <tr>\n",
       "      <th>993</th>\n",
       "      <td>INCT20955</td>\n",
       "      <td>INCT20955_20200314_211500</td>\n",
       "      <td>2020-03-14 21:15:00</td>\n",
       "      <td>BOAFAB</td>\n",
       "      <td>M</td>\n",
       "      <td>28.0</td>\n",
       "      <td>NaN</td>\n",
       "      <td>34.0</td>\n",
       "      <td>NaN</td>\n",
       "      <td>6.0</td>\n",
       "    </tr>\n",
       "  </tbody>\n",
       "</table>\n",
       "<p>290 rows × 10 columns</p>\n",
       "</div>"
      ],
      "text/plain": [
       "          site                      fname                date   label quality  \\\n",
       "26   INCT20955  INCT20955_20191011_214500 2019-10-11 21:45:00  BOAFAB       M   \n",
       "48   INCT20955  INCT20955_20191012_033000 2019-10-12 03:30:00  BOAFAB       M   \n",
       "49   INCT20955  INCT20955_20191012_033000 2019-10-12 03:30:00  BOAFAB       M   \n",
       "51   INCT20955  INCT20955_20191012_033000 2019-10-12 03:30:00  BOAFAB       M   \n",
       "52   INCT20955  INCT20955_20191012_033000 2019-10-12 03:30:00  BOAFAB       M   \n",
       "..         ...                        ...                 ...     ...     ...   \n",
       "989  INCT20955  INCT20955_20200314_201500 2020-03-14 20:15:00  BOAFAB       M   \n",
       "990  INCT20955  INCT20955_20200314_211500 2020-03-14 21:15:00  BOAFAB       M   \n",
       "991  INCT20955  INCT20955_20200314_211500 2020-03-14 21:15:00  BOAFAB       M   \n",
       "992  INCT20955  INCT20955_20200314_211500 2020-03-14 21:15:00  BOAFAB       M   \n",
       "993  INCT20955  INCT20955_20200314_211500 2020-03-14 21:15:00  BOAFAB       M   \n",
       "\n",
       "     min_t  min_f  max_t  max_f  label_duration  \n",
       "26     0.0    NaN   60.0    NaN            60.0  \n",
       "48    37.0    NaN   38.0    NaN             1.0  \n",
       "49    39.0    NaN   41.0    NaN             2.0  \n",
       "51    41.0    NaN   44.0    NaN             3.0  \n",
       "52    44.0    NaN   49.0    NaN             5.0  \n",
       "..     ...    ...    ...    ...             ...  \n",
       "989   46.0    NaN   60.0    NaN            14.0  \n",
       "990   34.0    NaN   39.0    NaN             5.0  \n",
       "991   39.0    NaN   60.0    NaN            21.0  \n",
       "992    0.0    NaN   28.0    NaN            28.0  \n",
       "993   28.0    NaN   34.0    NaN             6.0  \n",
       "\n",
       "[290 rows x 10 columns]"
      ]
     },
     "execution_count": 124,
     "metadata": {},
     "output_type": "execute_result"
    }
   ],
   "source": [
    "df_boafab "
   ]
  },
  {
   "cell_type": "code",
   "execution_count": 126,
   "id": "94fb645b-e8d4-4404-930d-6fdad4bfa4cc",
   "metadata": {},
   "outputs": [
    {
     "data": {
      "text/plain": [
       "(84,)"
      ]
     },
     "execution_count": 126,
     "metadata": {},
     "output_type": "execute_result"
    }
   ],
   "source": [
    "df_boafab['fname'].drop_duplicates().shape"
   ]
  },
  {
   "cell_type": "code",
   "execution_count": 127,
   "id": "9cf64c76-88de-415f-ae61-8638bf9ae2f0",
   "metadata": {},
   "outputs": [],
   "source": [
    "df_boafab['subset'] = ['train']*200+['validation']*45+['test']*45"
   ]
  },
  {
   "cell_type": "code",
   "execution_count": null,
   "id": "1968bcb5-5e29-4769-8853-2e2c970831ca",
   "metadata": {},
   "outputs": [],
   "source": []
  },
  {
   "cell_type": "code",
   "execution_count": null,
   "id": "c3fd7b5e-3118-4ba0-9198-e6b5aa0314c1",
   "metadata": {},
   "outputs": [],
   "source": []
  },
  {
   "cell_type": "code",
   "execution_count": null,
   "id": "471fec8d-8274-4617-82f6-61baf618a1b5",
   "metadata": {},
   "outputs": [],
   "source": []
  },
  {
   "cell_type": "code",
   "execution_count": null,
   "id": "cb00d5e9-a9d1-4601-9911-f4c34fe5e265",
   "metadata": {},
   "outputs": [],
   "source": [
    "# 2, 3, 4, 5\n",
    "segment_lenght = 5"
   ]
  },
  {
   "cell_type": "code",
   "execution_count": null,
   "id": "ada43270-3943-484d-80ac-c5f7ad52f1a3",
   "metadata": {},
   "outputs": [],
   "source": [
    "for file in df_boafab['name'].values[:3]:\n",
    "    file_name = file.split('.txt')[0]\n",
    "    plot_listen_examples(recordings_folder+file_name+'.wav')\n",
    "    \n",
    "    \n",
    "    # preprocessing\n",
    "    \n",
    "    \n",
    "    # split segment \n",
    "    \n",
    "    "
   ]
  },
  {
   "cell_type": "code",
   "execution_count": null,
   "id": "9de617d5-c83a-42c2-abf7-a02961e401c4",
   "metadata": {},
   "outputs": [],
   "source": [
    "plot_listen_examples(recordings_folder)"
   ]
  },
  {
   "cell_type": "code",
   "execution_count": null,
   "id": "733f5fc3-1337-406e-bc0a-2d6ec724b91f",
   "metadata": {},
   "outputs": [],
   "source": []
  },
  {
   "cell_type": "code",
   "execution_count": null,
   "id": "c37e3ab5-af33-465f-9065-fbb530608302",
   "metadata": {},
   "outputs": [],
   "source": [
    "\"\"\"\n",
    "Resample and transform samples to 16 bits\n",
    "Important Note: This script overwrites the samples. Make sure to proceed in a copy of the files\n",
    "https://github.com/juansulloa/chorus/blob/main/build_dataset/build_mini_dataset_v1/preprocess_FNJV_samples.py\n",
    "\n",
    "s, fs = sound.load('../data/spinetail.wav')\n",
    "s_resamp = sound.resample(s, fs, target_fs=fs/2)\n",
    "print('Number of samples - original audio:', s.shape[0],\n",
    "      'Number of samples - resampled audio:', s_resamp.shape[0])\n",
    "_ = sound.spectrogram(s, fs, display=True)\n",
    "_ = sound.spectrogram(s_resamp, fs/2, display=True)\n",
    "https://scikit-maad.github.io/generated/maad.sound.resample.html\n",
    "\"\"\"\n",
    "\n",
    "from maad import sound\n",
    "import glob\n",
    "\n",
    "\n",
    "#%% Set variables\n",
    "fpath = '/Volumes/Audiolib/ML_datasets/AnuraSet/FNJV/audio_files_no_bg/Physalaemus cuvieri/'\n",
    "target_fs = 22050\n",
    "bit_depth = 16\n",
    "\n",
    "#%%\n",
    "\n",
    "flist = glob.glob(fpath+'*.wav')\n",
    "\n",
    "for fname in flist:\n",
    "    print('Processing file ' + fname)\n",
    "    s, fs = sound.load(fname)\n",
    "    s_mod = sound.resample(s, fs, target_fs)\n",
    "    sound.write(fname, target_fs, s_mod, bit_depth)\n",
    "    "
   ]
  },
  {
   "cell_type": "code",
   "execution_count": null,
   "id": "45b281c4-3dbd-498b-aafa-557cda2472da",
   "metadata": {},
   "outputs": [],
   "source": []
  },
  {
   "cell_type": "code",
   "execution_count": null,
   "id": "f3a6520d-6d9f-47c9-a586-7fec923fba45",
   "metadata": {},
   "outputs": [],
   "source": [
    "df = pd.read_csv(folder+'labels_synth.csv')\n",
    "df['Both'] = df['PHYCUV'] + df['BOAFAB']\n",
    "print('Size:', df.shape)"
   ]
  },
  {
   "cell_type": "code",
   "execution_count": null,
   "id": "212f7e40-5c53-4b0b-a243-d11977dba25a",
   "metadata": {},
   "outputs": [],
   "source": [
    "df['PHYCUV'].value_counts()"
   ]
  },
  {
   "cell_type": "code",
   "execution_count": null,
   "id": "46c22e17-9bc2-4ed8-b7bb-01e25c540417",
   "metadata": {},
   "outputs": [],
   "source": [
    "df['BOAFAB'].value_counts()"
   ]
  },
  {
   "cell_type": "markdown",
   "id": "e6ef5772-698b-4d7c-acdc-710303b4e7e1",
   "metadata": {},
   "source": [
    "# Interpretation:\n",
    "- 0 --> No one, noise, othe spe\n",
    "- 1 --> Only one spec\n",
    "- 2 --> Both!"
   ]
  },
  {
   "cell_type": "code",
   "execution_count": null,
   "id": "27112fdb-7d35-462e-a9fe-6a287d85722c",
   "metadata": {},
   "outputs": [],
   "source": [
    "(df['BOAFAB']+df['PHYCUV']).value_counts()"
   ]
  },
  {
   "cell_type": "code",
   "execution_count": null,
   "id": "5c971c03-cbf7-4913-8e97-96d72dca4d6e",
   "metadata": {},
   "outputs": [],
   "source": [
    "df.head()"
   ]
  },
  {
   "cell_type": "code",
   "execution_count": null,
   "id": "b5612da4-c551-4b2d-aede-82f161a038cf",
   "metadata": {},
   "outputs": [],
   "source": []
  },
  {
   "cell_type": "code",
   "execution_count": null,
   "id": "e4947e30-be17-4034-905e-d27a9eeb6fc2",
   "metadata": {},
   "outputs": [],
   "source": [
    "onlyfiles = [f for f in listdir(recordings_folder) if isfile(join(recordings_folder, f))]\n",
    "print('Number of files:',len(onlyfiles))\n",
    "files = [i.split('.')[-1] for i in onlyfiles]\n",
    "print('Fortmats:',set(files))\n",
    "print()\n",
    "print('Frequency of files:',pd.Series(files).value_counts())\n",
    "files_names = [i.split('.')[0] for i in onlyfiles]\n",
    "print()\n",
    "print('Unique names:',len(files_names))"
   ]
  },
  {
   "cell_type": "code",
   "execution_count": null,
   "id": "fed3a54c-6537-4b3f-a807-48d2d5c5753b",
   "metadata": {},
   "outputs": [],
   "source": [
    "onlyfiles"
   ]
  },
  {
   "cell_type": "markdown",
   "id": "63c4cb2d-b904-46cf-930e-66ae109013c7",
   "metadata": {},
   "source": [
    "# Read Audio"
   ]
  },
  {
   "cell_type": "code",
   "execution_count": null,
   "id": "b0ed7f24-6326-4eb0-a5a5-564f13c19906",
   "metadata": {},
   "outputs": [],
   "source": [
    "path_audio = 'INCT20955/raw/recordings' \n",
    "for i in range(2):\n",
    "    file_name = plot_listen_examples(path_audio)"
   ]
  },
  {
   "cell_type": "code",
   "execution_count": null,
   "id": "7d7dce5f-a046-4fd3-b66f-8d939eefb67b",
   "metadata": {},
   "outputs": [],
   "source": [
    "onlyfiles"
   ]
  },
  {
   "cell_type": "code",
   "execution_count": null,
   "id": "642a0c68-77c8-4e54-9b92-e81d37ae3898",
   "metadata": {},
   "outputs": [],
   "source": []
  }
 ],
 "metadata": {
  "kernelspec": {
   "display_name": "Python gibbons_env",
   "language": "python",
   "name": "gibbons_env"
  },
  "language_info": {
   "codemirror_mode": {
    "name": "ipython",
    "version": 3
   },
   "file_extension": ".py",
   "mimetype": "text/x-python",
   "name": "python",
   "nbconvert_exporter": "python",
   "pygments_lexer": "ipython3",
   "version": "3.6.13"
  }
 },
 "nbformat": 4,
 "nbformat_minor": 5
}
