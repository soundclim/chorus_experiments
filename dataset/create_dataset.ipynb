{
 "cells": [
  {
   "cell_type": "code",
   "execution_count": null,
   "id": "8cb66344-589a-4490-b79b-f2ba88130f00",
   "metadata": {},
   "outputs": [],
   "source": [
    "import time\n",
    "\n",
    "import numpy as np\n",
    "import pandas as pd\n",
    "\n",
    "from preprocessing.preprocessing import build_dataset\n",
    "\n",
    "pd.options.mode.chained_assignment = None "
   ]
  },
  {
   "cell_type": "code",
   "execution_count": null,
   "id": "4396eeaf-38a3-4930-b0bb-03d52c03a954",
   "metadata": {},
   "outputs": [],
   "source": [
    "def detect_group_leakage(df, group_name, split_name):\n",
    "    \n",
    "    df_overlapping = df.groupby([group_name])[split_name].nunique()\n",
    "    return any(df_overlapping>1)\n",
    "\n",
    "def plot_split_size(df, split_name, labels_names):\n",
    "    \n",
    "    df_plot = df.groupby([split_name])[labels_names].sum()\n",
    "    display(round(df_plot/df_plot.sum(),2))"
   ]
  },
  {
   "cell_type": "code",
   "execution_count": null,
   "id": "887ed57a-270a-4448-9118-2c4bd7278575",
   "metadata": {},
   "outputs": [],
   "source": [
    "# Multiclass\n",
    "wl = 3\n",
    "sr = 22050\n",
    "flims = (1,10000)\n",
    "site_list = ['INCT20955','INCT41']\n",
    "path_save = 'data/BuildDataset/datasetv2-multiclass_1'\n",
    "labels_cols = ['BOAFAB_F', 'BOAFAB_M', 'PHYCUV_F', 'PHYCUV_M', 'BOAFAB_C', 'DENCRU_M',\n",
    "               'BOALUN_M', 'BOAALB_M', 'BOAALB_F', 'DENCRU_F', 'BOALUN_F', 'PHYMAR_F',\n",
    "               'PHYMAR_M', 'PITAZU_M', 'PITAZU_F', 'BOALUN_C', 'PHYMAR_C']\n",
    "start = time.time()\n",
    "df_multiclass = build_dataset(wl=wl, \n",
    "                              site_list=site_list,\n",
    "                              target_sr=sr, \n",
    "                              flims=flims,\n",
    "                              path_save=path_save,\n",
    "                             labels_cols=labels_cols)\n",
    "end = time.time()\n",
    "print(round((end - start)/60,1),' minutes')"
   ]
  },
  {
   "cell_type": "code",
   "execution_count": null,
   "id": "bc6e2c54-e9d2-4561-ab71-45375a57acf9",
   "metadata": {},
   "outputs": [],
   "source": [
    "df_dataset_concat = df_multiclass.copy()"
   ]
  },
  {
   "cell_type": "code",
   "execution_count": null,
   "id": "ad4faffa-bd59-483d-9018-96f795d99f83",
   "metadata": {},
   "outputs": [],
   "source": [
    "df_dataset_concat.shape"
   ]
  },
  {
   "cell_type": "code",
   "execution_count": null,
   "id": "77be4bc9-baa2-4807-a961-0fc91a0449ec",
   "metadata": {},
   "outputs": [],
   "source": [
    "df_dataset_concat['fold'].value_counts(normalize=True)"
   ]
  },
  {
   "cell_type": "code",
   "execution_count": null,
   "id": "ddb85c6f-12c5-429d-aeef-815afa19ab08",
   "metadata": {},
   "outputs": [],
   "source": [
    "pd.crosstab(df_dataset_concat['subset'], df_dataset_concat['fold'])"
   ]
  },
  {
   "cell_type": "code",
   "execution_count": null,
   "id": "f4d0336b-affd-4f7b-9269-82bd8c9b2512",
   "metadata": {},
   "outputs": [],
   "source": [
    "print('Group Leakage:', detect_group_leakage(df=df_dataset_concat, \n",
    "                 group_name='fname',\n",
    "                 split_name='fold'))"
   ]
  },
  {
   "cell_type": "code",
   "execution_count": null,
   "id": "025d621f-a9ad-41be-bc07-452834372979",
   "metadata": {},
   "outputs": [],
   "source": [
    "df_dataset_concat_D = df_dataset_concat.copy()\n",
    "df_dataset_concat_D['dummy'] = 1\n",
    "df_dataset_concat_D = df_dataset_concat_D.pivot_table(index='class', columns = 'fold', values = 'dummy',aggfunc=np.sum)\n",
    "df_dataset_concat_D = pd.concat([df_dataset_concat_D,\n",
    "                                df_dataset_concat['class'].value_counts().rename('Label count')],axis=1,)\n",
    "df_dataset_concat_D= pd.concat([df_dataset_concat_D,\n",
    "                                pd.DataFrame(df_dataset_concat['fold'].value_counts(normalize=False).rename('Fold count')).T])\n",
    "df_dataset_concat_D"
   ]
  },
  {
   "cell_type": "code",
   "execution_count": null,
   "id": "caf940ab-3fed-4332-b0e9-03762fed5ceb",
   "metadata": {},
   "outputs": [],
   "source": [
    "df_dataset_concat['class'].value_counts()"
   ]
  },
  {
   "cell_type": "code",
   "execution_count": null,
   "id": "2675898e-2d7b-4600-ba9a-7767e14483c2",
   "metadata": {},
   "outputs": [],
   "source": [
    "df_dataset_concat.head()"
   ]
  },
  {
   "cell_type": "code",
   "execution_count": null,
   "id": "65cf57a7-871a-4a72-8ba4-d009670f7475",
   "metadata": {},
   "outputs": [],
   "source": []
  },
  {
   "cell_type": "code",
   "execution_count": null,
   "id": "79cdd81e-58ed-405a-8057-87b17a3675b0",
   "metadata": {},
   "outputs": [],
   "source": []
  },
  {
   "cell_type": "code",
   "execution_count": null,
   "id": "34cbd79e-9710-47cd-a99b-716b07ea7b73",
   "metadata": {},
   "outputs": [],
   "source": [
    "# Binary BOAFAB\n",
    "wl = 3\n",
    "sr = 22050\n",
    "flims = (100,2000)\n",
    "verbose = False # Doubt about use this term\n",
    "recordings_folder = 'data/INCT20955/raw/recordings/'\n",
    "annotation_path = 'data/INCT20955/raw/annotations/'\n",
    "path_save = 'data/datasetv1/binary_boafab_1'\n",
    "prefix='SAMPLE_'\n",
    "labels_cols = ['BOAFAB_M','BOAFAB_C'] # looks like multiclass but ends like binary\n",
    "site=['INCT20955']\n",
    "\n",
    "start = time.time()\n",
    "df_boafab_binary_dataset = build_dataset(wav_path=recordings_folder, \n",
    "                                                  annotation_path=annotation_path, \n",
    "                                                  wl=wl, \n",
    "                                                  site=site,\n",
    "                                                  target_sr=sr, \n",
    "                                                  flims=flims,\n",
    "                                                  path_save=path_save, \n",
    "                                                  prefix=prefix, \n",
    "                                                  labels_cols=labels_cols,\n",
    "                                                  verbose=verbose)\n",
    "end = time.time()\n",
    "print(round((end - start)/60,1),' minutes')"
   ]
  },
  {
   "cell_type": "code",
   "execution_count": null,
   "id": "d2f5fab8-e427-4308-8440-b074e96f8420",
   "metadata": {},
   "outputs": [],
   "source": [
    "# Binary PHYCUV\n",
    "wl = 3\n",
    "sr = 22050\n",
    "flims = (300,2000)\n",
    "verbose=True\n",
    "recordings_folder = 'data/INCT20955/raw/recordings/'\n",
    "annotation_path = 'data/INCT20955/raw/annotations/'\n",
    "path_save='data/datasetv1/binary_phycuv_1'\n",
    "prefix='SAMPLE_'\n",
    "labels_cols = ['PHYCUV_M']\n",
    "site=['INCT20955']\n",
    "\n",
    "start = time.time()\n",
    "df_phycuv_binary_dataset = build_dataset(wav_path=recordings_folder, \n",
    "                                                  annotation_path=annotation_path, \n",
    "                                                  wl=wl, \n",
    "                                                  site=site,\n",
    "                                                  target_sr=sr, \n",
    "                                                  flims=flims,\n",
    "                                                  path_save=path_save, \n",
    "                                                  prefix=prefix, \n",
    "                                                  labels_cols=labels_cols,\n",
    "                                                  verbose=verbose)\n",
    "end = time.time()\n",
    "print(round((end - start)/60,1),' minutes')"
   ]
  },
  {
   "cell_type": "code",
   "execution_count": null,
   "id": "73bcfe04-2818-49cd-95ce-48096d7741f2",
   "metadata": {},
   "outputs": [],
   "source": [
    "# Multiclass\n",
    "wl = 3\n",
    "sr = 22050\n",
    "flims = (1,10000)\n",
    "verbose = False # Doubt about use this term\n",
    "recordings_folder = 'data/INCT41/raw/recordings/'\n",
    "annotation_path = 'data/INCT41/raw/annotations/'\n",
    "path_save='data/datasetv2/multiclass_1'\n",
    "prefix='SAMPLE_'\n",
    "max_duration = 60\n",
    "labels_cols = ['BOAFAB_M','BOAFAB_C','PHYCUV_M']\n",
    "site=['INCT20955','INCT4']\n",
    "\n",
    "start = time.time()\n",
    "df_boafab_multiclass_1 = build_dataset(wav_path=recordings_folder, \n",
    "                                                  annotation_path=annotation_path, \n",
    "                                                  wl=wl, \n",
    "                                                  site=site,\n",
    "                                                  target_sr=sr, \n",
    "                                                  flims=flims,\n",
    "                                                  path_save=path_save, \n",
    "                                                  prefix=prefix, \n",
    "                                                  labels_cols=labels_cols,\n",
    "                                                  verbose=verbose)\n",
    "end = time.time()\n",
    "print(round((end - start)/60,1),' minutes')"
   ]
  }
 ],
 "metadata": {
  "kernelspec": {
   "display_name": "Python trans_env",
   "language": "python",
   "name": "trans_env"
  },
  "language_info": {
   "codemirror_mode": {
    "name": "ipython",
    "version": 3
   },
   "file_extension": ".py",
   "mimetype": "text/x-python",
   "name": "python",
   "nbconvert_exporter": "python",
   "pygments_lexer": "ipython3",
   "version": "3.8.13"
  }
 },
 "nbformat": 4,
 "nbformat_minor": 5
}
