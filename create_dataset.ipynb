{
 "cells": [
  {
   "cell_type": "code",
   "execution_count": 1,
   "id": "8cb66344-589a-4490-b79b-f2ba88130f00",
   "metadata": {},
   "outputs": [],
   "source": [
    "import time\n",
    "\n",
    "import numpy as np\n",
    "import pandas as pd\n",
    "\n",
    "from preprocessing.preprocessing import build_dataset\n",
    "\n",
    "pd.options.mode.chained_assignment = None "
   ]
  },
  {
   "cell_type": "code",
   "execution_count": 2,
   "id": "4396eeaf-38a3-4930-b0bb-03d52c03a954",
   "metadata": {},
   "outputs": [],
   "source": [
    "def detect_group_leakage(df, group_name, split_name):\n",
    "    \n",
    "    df_overlapping = df.groupby([group_name])[split_name].nunique()\n",
    "    return any(df_overlapping>1)\n",
    "\n",
    "def plot_split_size(df, split_name, labels_names):\n",
    "    \n",
    "    df_plot = df.groupby([split_name])[labels_names].sum()\n",
    "    display(round(df_plot/df_plot.sum(),2))\n",
    "    "
   ]
  },
  {
   "cell_type": "code",
   "execution_count": 3,
   "id": "887ed57a-270a-4448-9118-2c4bd7278575",
   "metadata": {},
   "outputs": [
    {
     "name": "stdout",
     "output_type": "stream",
     "text": [
      "3023 327 2696\n",
      "(6158, 6)\n",
      "3999 1289 2710\n",
      "(2540, 6)\n"
     ]
    },
    {
     "name": "stderr",
     "output_type": "stream",
     "text": [
      "/mnt/batch/tasks/shared/LS_root/mounts/clusters/gpu-baseline/code/Users/jscanass/chorus_experiments/preprocessing/preprocessing.py:258: UserWarning: We want 2710samples but only have2540\n",
      "  warn('We want ' +str(n_sample)+ 'samples but only have'+ str(df_absence_rois_from_planilha.shape[0]))\n",
      "/anaconda/envs/trans_env/lib/python3.8/site-packages/pandas/core/algorithms.py:798: FutureWarning: In a future version, the Index constructor will not infer numeric dtypes when passed object-dtype sequences (matching Series behavior)\n",
      "  uniques = Index(uniques)\n"
     ]
    },
    {
     "name": "stdout",
     "output_type": "stream",
     "text": [
      "3.6  minutes\n"
     ]
    }
   ],
   "source": [
    "# Multiclass\n",
    "wl = 3\n",
    "sr = 22050\n",
    "flims = (1,10000)\n",
    "site_list = ['INCT20955','INCT41']\n",
    "path_save ='data/BuildDataset/datasetv2-multiclass_1'\n",
    "labels_cols = ['BOAFAB_F' ,'BOAFAB_M', 'PHYCUV_F' ,'PHYCUV_M', 'BOAFAB_C' ,'DENCRU_M',\n",
    "                 'BOALUN_M', 'BOAALB_M', 'BOAALB_F' ,'DENCRU_F' ,'BOALUN_F', 'PHYMAR_F',\n",
    "                 'PHYMAR_M' ,'PITAZU_M' ,'PITAZU_F' ,'BOALUN_C' ,'PHYMAR_C']\n",
    "start = time.time()\n",
    "df_multiclass = build_dataset(wl=wl, \n",
    "                              site_list=site_list,\n",
    "                              target_sr=sr, \n",
    "                              flims=flims,\n",
    "                              path_save=path_save,\n",
    "                             labels_cols=labels_cols)\n",
    "end = time.time()\n",
    "print(round((end - start)/60,1),' minutes')"
   ]
  },
  {
   "cell_type": "code",
   "execution_count": 10,
   "id": "3a7e76e7-af15-4bb0-a2fd-5574a9c45477",
   "metadata": {},
   "outputs": [
    {
     "data": {
      "text/plain": [
       "(13874, 33)"
      ]
     },
     "execution_count": 10,
     "metadata": {},
     "output_type": "execute_result"
    }
   ],
   "source": [
    "df_dataset_concat = df_multiclass.copy()\n",
    "df_dataset_concat.shape"
   ]
  },
  {
   "cell_type": "code",
   "execution_count": 11,
   "id": "ddb85c6f-12c5-429d-aeef-815afa19ab08",
   "metadata": {},
   "outputs": [
    {
     "data": {
      "text/html": [
       "<div>\n",
       "<style scoped>\n",
       "    .dataframe tbody tr th:only-of-type {\n",
       "        vertical-align: middle;\n",
       "    }\n",
       "\n",
       "    .dataframe tbody tr th {\n",
       "        vertical-align: top;\n",
       "    }\n",
       "\n",
       "    .dataframe thead th {\n",
       "        text-align: right;\n",
       "    }\n",
       "</style>\n",
       "<table border=\"1\" class=\"dataframe\">\n",
       "  <thead>\n",
       "    <tr style=\"text-align: right;\">\n",
       "      <th>fold</th>\n",
       "      <th>0.0</th>\n",
       "      <th>1.0</th>\n",
       "      <th>2.0</th>\n",
       "      <th>3.0</th>\n",
       "      <th>4.0</th>\n",
       "      <th>5.0</th>\n",
       "    </tr>\n",
       "    <tr>\n",
       "      <th>subset</th>\n",
       "      <th></th>\n",
       "      <th></th>\n",
       "      <th></th>\n",
       "      <th></th>\n",
       "      <th></th>\n",
       "      <th></th>\n",
       "    </tr>\n",
       "  </thead>\n",
       "  <tbody>\n",
       "    <tr>\n",
       "      <th>test</th>\n",
       "      <td>2303</td>\n",
       "      <td>0</td>\n",
       "      <td>0</td>\n",
       "      <td>0</td>\n",
       "      <td>0</td>\n",
       "      <td>0</td>\n",
       "    </tr>\n",
       "    <tr>\n",
       "      <th>train</th>\n",
       "      <td>0</td>\n",
       "      <td>2298</td>\n",
       "      <td>2309</td>\n",
       "      <td>2334</td>\n",
       "      <td>2315</td>\n",
       "      <td>2315</td>\n",
       "    </tr>\n",
       "  </tbody>\n",
       "</table>\n",
       "</div>"
      ],
      "text/plain": [
       "fold     0.0   1.0   2.0   3.0   4.0   5.0\n",
       "subset                                    \n",
       "test    2303     0     0     0     0     0\n",
       "train      0  2298  2309  2334  2315  2315"
      ]
     },
     "execution_count": 11,
     "metadata": {},
     "output_type": "execute_result"
    }
   ],
   "source": [
    "pd.crosstab(df_dataset_concat['subset'], df_dataset_concat['fold'])"
   ]
  },
  {
   "cell_type": "code",
   "execution_count": 12,
   "id": "f4d0336b-affd-4f7b-9269-82bd8c9b2512",
   "metadata": {},
   "outputs": [
    {
     "name": "stdout",
     "output_type": "stream",
     "text": [
      "Group Leakage: False\n"
     ]
    }
   ],
   "source": [
    "print('Group Leakage:', detect_group_leakage(df=df_dataset_concat, \n",
    "                 group_name='fname',\n",
    "                 split_name='fold'))"
   ]
  },
  {
   "cell_type": "code",
   "execution_count": 13,
   "id": "025d621f-a9ad-41be-bc07-452834372979",
   "metadata": {},
   "outputs": [
    {
     "data": {
      "text/html": [
       "<div>\n",
       "<style scoped>\n",
       "    .dataframe tbody tr th:only-of-type {\n",
       "        vertical-align: middle;\n",
       "    }\n",
       "\n",
       "    .dataframe tbody tr th {\n",
       "        vertical-align: top;\n",
       "    }\n",
       "\n",
       "    .dataframe thead th {\n",
       "        text-align: right;\n",
       "    }\n",
       "</style>\n",
       "<table border=\"1\" class=\"dataframe\">\n",
       "  <thead>\n",
       "    <tr style=\"text-align: right;\">\n",
       "      <th></th>\n",
       "      <th>0.0</th>\n",
       "      <th>1.0</th>\n",
       "      <th>2.0</th>\n",
       "      <th>3.0</th>\n",
       "      <th>4.0</th>\n",
       "      <th>5.0</th>\n",
       "      <th>column_name</th>\n",
       "    </tr>\n",
       "  </thead>\n",
       "  <tbody>\n",
       "    <tr>\n",
       "      <th>INCT20955_ABSENCE</th>\n",
       "      <td>503.0</td>\n",
       "      <td>504.0</td>\n",
       "      <td>505.0</td>\n",
       "      <td>505.0</td>\n",
       "      <td>503.0</td>\n",
       "      <td>503.0</td>\n",
       "      <td>3023.0</td>\n",
       "    </tr>\n",
       "    <tr>\n",
       "      <th>INCT20955_BOAFAB_C</th>\n",
       "      <td>NaN</td>\n",
       "      <td>NaN</td>\n",
       "      <td>20.0</td>\n",
       "      <td>20.0</td>\n",
       "      <td>20.0</td>\n",
       "      <td>20.0</td>\n",
       "      <td>80.0</td>\n",
       "    </tr>\n",
       "    <tr>\n",
       "      <th>INCT20955_BOAFAB_F</th>\n",
       "      <td>80.0</td>\n",
       "      <td>76.0</td>\n",
       "      <td>78.0</td>\n",
       "      <td>84.0</td>\n",
       "      <td>75.0</td>\n",
       "      <td>74.0</td>\n",
       "      <td>467.0</td>\n",
       "    </tr>\n",
       "    <tr>\n",
       "      <th>INCT20955_BOAFAB_M</th>\n",
       "      <td>247.0</td>\n",
       "      <td>246.0</td>\n",
       "      <td>244.0</td>\n",
       "      <td>248.0</td>\n",
       "      <td>247.0</td>\n",
       "      <td>254.0</td>\n",
       "      <td>1486.0</td>\n",
       "    </tr>\n",
       "    <tr>\n",
       "      <th>INCT20955_PHYCUV_F</th>\n",
       "      <td>141.0</td>\n",
       "      <td>137.0</td>\n",
       "      <td>134.0</td>\n",
       "      <td>134.0</td>\n",
       "      <td>138.0</td>\n",
       "      <td>136.0</td>\n",
       "      <td>820.0</td>\n",
       "    </tr>\n",
       "    <tr>\n",
       "      <th>INCT20955_PHYCUV_M</th>\n",
       "      <td>30.0</td>\n",
       "      <td>30.0</td>\n",
       "      <td>33.0</td>\n",
       "      <td>27.0</td>\n",
       "      <td>25.0</td>\n",
       "      <td>25.0</td>\n",
       "      <td>170.0</td>\n",
       "    </tr>\n",
       "    <tr>\n",
       "      <th>INCT41_ABSENCE</th>\n",
       "      <td>638.0</td>\n",
       "      <td>642.0</td>\n",
       "      <td>636.0</td>\n",
       "      <td>640.0</td>\n",
       "      <td>638.0</td>\n",
       "      <td>635.0</td>\n",
       "      <td>3829.0</td>\n",
       "    </tr>\n",
       "    <tr>\n",
       "      <th>INCT41_BOAALB_F</th>\n",
       "      <td>161.0</td>\n",
       "      <td>161.0</td>\n",
       "      <td>163.0</td>\n",
       "      <td>160.0</td>\n",
       "      <td>161.0</td>\n",
       "      <td>161.0</td>\n",
       "      <td>967.0</td>\n",
       "    </tr>\n",
       "    <tr>\n",
       "      <th>INCT41_BOAALB_M</th>\n",
       "      <td>113.0</td>\n",
       "      <td>111.0</td>\n",
       "      <td>109.0</td>\n",
       "      <td>111.0</td>\n",
       "      <td>112.0</td>\n",
       "      <td>109.0</td>\n",
       "      <td>665.0</td>\n",
       "    </tr>\n",
       "    <tr>\n",
       "      <th>INCT41_BOALUN_C</th>\n",
       "      <td>NaN</td>\n",
       "      <td>NaN</td>\n",
       "      <td>NaN</td>\n",
       "      <td>14.0</td>\n",
       "      <td>NaN</td>\n",
       "      <td>NaN</td>\n",
       "      <td>14.0</td>\n",
       "    </tr>\n",
       "    <tr>\n",
       "      <th>INCT41_BOALUN_F</th>\n",
       "      <td>152.0</td>\n",
       "      <td>147.0</td>\n",
       "      <td>152.0</td>\n",
       "      <td>150.0</td>\n",
       "      <td>152.0</td>\n",
       "      <td>156.0</td>\n",
       "      <td>909.0</td>\n",
       "    </tr>\n",
       "    <tr>\n",
       "      <th>INCT41_BOALUN_M</th>\n",
       "      <td>NaN</td>\n",
       "      <td>3.0</td>\n",
       "      <td>22.0</td>\n",
       "      <td>8.0</td>\n",
       "      <td>16.0</td>\n",
       "      <td>19.0</td>\n",
       "      <td>68.0</td>\n",
       "    </tr>\n",
       "    <tr>\n",
       "      <th>INCT41_DENCRU_F</th>\n",
       "      <td>38.0</td>\n",
       "      <td>42.0</td>\n",
       "      <td>41.0</td>\n",
       "      <td>39.0</td>\n",
       "      <td>37.0</td>\n",
       "      <td>38.0</td>\n",
       "      <td>235.0</td>\n",
       "    </tr>\n",
       "    <tr>\n",
       "      <th>INCT41_DENCRU_M</th>\n",
       "      <td>15.0</td>\n",
       "      <td>5.0</td>\n",
       "      <td>2.0</td>\n",
       "      <td>7.0</td>\n",
       "      <td>12.0</td>\n",
       "      <td>NaN</td>\n",
       "      <td>41.0</td>\n",
       "    </tr>\n",
       "    <tr>\n",
       "      <th>INCT41_PHYCUV_F</th>\n",
       "      <td>129.0</td>\n",
       "      <td>126.0</td>\n",
       "      <td>121.0</td>\n",
       "      <td>126.0</td>\n",
       "      <td>122.0</td>\n",
       "      <td>127.0</td>\n",
       "      <td>751.0</td>\n",
       "    </tr>\n",
       "    <tr>\n",
       "      <th>INCT41_PHYCUV_M</th>\n",
       "      <td>29.0</td>\n",
       "      <td>43.0</td>\n",
       "      <td>34.0</td>\n",
       "      <td>45.0</td>\n",
       "      <td>30.0</td>\n",
       "      <td>40.0</td>\n",
       "      <td>221.0</td>\n",
       "    </tr>\n",
       "    <tr>\n",
       "      <th>INCT41_PHYMAR_C</th>\n",
       "      <td>1.0</td>\n",
       "      <td>1.0</td>\n",
       "      <td>NaN</td>\n",
       "      <td>2.0</td>\n",
       "      <td>3.0</td>\n",
       "      <td>NaN</td>\n",
       "      <td>7.0</td>\n",
       "    </tr>\n",
       "    <tr>\n",
       "      <th>INCT41_PHYMAR_F</th>\n",
       "      <td>12.0</td>\n",
       "      <td>14.0</td>\n",
       "      <td>11.0</td>\n",
       "      <td>13.0</td>\n",
       "      <td>15.0</td>\n",
       "      <td>9.0</td>\n",
       "      <td>74.0</td>\n",
       "    </tr>\n",
       "    <tr>\n",
       "      <th>INCT41_PHYMAR_M</th>\n",
       "      <td>2.0</td>\n",
       "      <td>1.0</td>\n",
       "      <td>NaN</td>\n",
       "      <td>NaN</td>\n",
       "      <td>NaN</td>\n",
       "      <td>6.0</td>\n",
       "      <td>9.0</td>\n",
       "    </tr>\n",
       "    <tr>\n",
       "      <th>INCT41_PITAZU_F</th>\n",
       "      <td>12.0</td>\n",
       "      <td>9.0</td>\n",
       "      <td>2.0</td>\n",
       "      <td>1.0</td>\n",
       "      <td>2.0</td>\n",
       "      <td>3.0</td>\n",
       "      <td>29.0</td>\n",
       "    </tr>\n",
       "    <tr>\n",
       "      <th>INCT41_PITAZU_M</th>\n",
       "      <td>NaN</td>\n",
       "      <td>NaN</td>\n",
       "      <td>2.0</td>\n",
       "      <td>NaN</td>\n",
       "      <td>7.0</td>\n",
       "      <td>NaN</td>\n",
       "      <td>9.0</td>\n",
       "    </tr>\n",
       "    <tr>\n",
       "      <th>fold</th>\n",
       "      <td>2303.0</td>\n",
       "      <td>2298.0</td>\n",
       "      <td>2309.0</td>\n",
       "      <td>2334.0</td>\n",
       "      <td>2315.0</td>\n",
       "      <td>2315.0</td>\n",
       "      <td>NaN</td>\n",
       "    </tr>\n",
       "  </tbody>\n",
       "</table>\n",
       "</div>"
      ],
      "text/plain": [
       "                       0.0     1.0     2.0     3.0     4.0     5.0  \\\n",
       "INCT20955_ABSENCE    503.0   504.0   505.0   505.0   503.0   503.0   \n",
       "INCT20955_BOAFAB_C     NaN     NaN    20.0    20.0    20.0    20.0   \n",
       "INCT20955_BOAFAB_F    80.0    76.0    78.0    84.0    75.0    74.0   \n",
       "INCT20955_BOAFAB_M   247.0   246.0   244.0   248.0   247.0   254.0   \n",
       "INCT20955_PHYCUV_F   141.0   137.0   134.0   134.0   138.0   136.0   \n",
       "INCT20955_PHYCUV_M    30.0    30.0    33.0    27.0    25.0    25.0   \n",
       "INCT41_ABSENCE       638.0   642.0   636.0   640.0   638.0   635.0   \n",
       "INCT41_BOAALB_F      161.0   161.0   163.0   160.0   161.0   161.0   \n",
       "INCT41_BOAALB_M      113.0   111.0   109.0   111.0   112.0   109.0   \n",
       "INCT41_BOALUN_C        NaN     NaN     NaN    14.0     NaN     NaN   \n",
       "INCT41_BOALUN_F      152.0   147.0   152.0   150.0   152.0   156.0   \n",
       "INCT41_BOALUN_M        NaN     3.0    22.0     8.0    16.0    19.0   \n",
       "INCT41_DENCRU_F       38.0    42.0    41.0    39.0    37.0    38.0   \n",
       "INCT41_DENCRU_M       15.0     5.0     2.0     7.0    12.0     NaN   \n",
       "INCT41_PHYCUV_F      129.0   126.0   121.0   126.0   122.0   127.0   \n",
       "INCT41_PHYCUV_M       29.0    43.0    34.0    45.0    30.0    40.0   \n",
       "INCT41_PHYMAR_C        1.0     1.0     NaN     2.0     3.0     NaN   \n",
       "INCT41_PHYMAR_F       12.0    14.0    11.0    13.0    15.0     9.0   \n",
       "INCT41_PHYMAR_M        2.0     1.0     NaN     NaN     NaN     6.0   \n",
       "INCT41_PITAZU_F       12.0     9.0     2.0     1.0     2.0     3.0   \n",
       "INCT41_PITAZU_M        NaN     NaN     2.0     NaN     7.0     NaN   \n",
       "fold                2303.0  2298.0  2309.0  2334.0  2315.0  2315.0   \n",
       "\n",
       "                    column_name  \n",
       "INCT20955_ABSENCE        3023.0  \n",
       "INCT20955_BOAFAB_C         80.0  \n",
       "INCT20955_BOAFAB_F        467.0  \n",
       "INCT20955_BOAFAB_M       1486.0  \n",
       "INCT20955_PHYCUV_F        820.0  \n",
       "INCT20955_PHYCUV_M        170.0  \n",
       "INCT41_ABSENCE           3829.0  \n",
       "INCT41_BOAALB_F           967.0  \n",
       "INCT41_BOAALB_M           665.0  \n",
       "INCT41_BOALUN_C            14.0  \n",
       "INCT41_BOALUN_F           909.0  \n",
       "INCT41_BOALUN_M            68.0  \n",
       "INCT41_DENCRU_F           235.0  \n",
       "INCT41_DENCRU_M            41.0  \n",
       "INCT41_PHYCUV_F           751.0  \n",
       "INCT41_PHYCUV_M           221.0  \n",
       "INCT41_PHYMAR_C             7.0  \n",
       "INCT41_PHYMAR_F            74.0  \n",
       "INCT41_PHYMAR_M             9.0  \n",
       "INCT41_PITAZU_F            29.0  \n",
       "INCT41_PITAZU_M             9.0  \n",
       "fold                        NaN  "
      ]
     },
     "execution_count": 13,
     "metadata": {},
     "output_type": "execute_result"
    }
   ],
   "source": [
    "df_dataset_concat_D = df_dataset_concat.copy()\n",
    "df_dataset_concat_D['dummy'] = 1\n",
    "df_dataset_concat_D = df_dataset_concat_D.pivot_table(index='column_name', columns = 'fold', values = 'dummy',aggfunc=np.sum)\n",
    "df_dataset_concat_D = pd.concat([df_dataset_concat_D,\n",
    "                                df_dataset_concat['column_name'].value_counts()],axis=1,)\n",
    "df_dataset_concat_D= pd.concat([df_dataset_concat_D,\n",
    "                                pd.DataFrame(df_dataset_concat['fold'].value_counts(normalize=False)).T])\n",
    "df_dataset_concat_D"
   ]
  },
  {
   "cell_type": "code",
   "execution_count": 19,
   "id": "c06518bc-44a6-4a04-9855-30ba08422637",
   "metadata": {},
   "outputs": [
    {
     "data": {
      "text/plain": [
       "array(['INCT20955_20191031_190000', 'INCT20955_20191031_200000',\n",
       "       'INCT20955_20191107_191500', 'INCT20955_20191122_201500'],\n",
       "      dtype=object)"
      ]
     },
     "execution_count": 19,
     "metadata": {},
     "output_type": "execute_result"
    }
   ],
   "source": [
    "df_dataset_concat[df_dataset_concat['column_name']=='INCT20955_BOAFAB_C']['fname'].unique()"
   ]
  },
  {
   "cell_type": "code",
   "execution_count": 20,
   "id": "9f6dca83-ae4b-424f-a106-1776d993ef60",
   "metadata": {},
   "outputs": [
    {
     "data": {
      "text/plain": [
       "array(['INCT41_20201028_234500'], dtype=object)"
      ]
     },
     "execution_count": 20,
     "metadata": {},
     "output_type": "execute_result"
    }
   ],
   "source": [
    "df_dataset_concat[df_dataset_concat['column_name']=='INCT41_BOALUN_C']['fname'].unique()"
   ]
  },
  {
   "cell_type": "code",
   "execution_count": 21,
   "id": "262a7607-315b-4775-bfb4-a6fe44135f1a",
   "metadata": {},
   "outputs": [
    {
     "data": {
      "text/plain": [
       "array(['INCT41_20200126_190000', 'INCT41_20200216_200000',\n",
       "       'INCT41_20200216_210000', 'INCT41_20200216_230000',\n",
       "       'INCT41_20200218_191500'], dtype=object)"
      ]
     },
     "execution_count": 21,
     "metadata": {},
     "output_type": "execute_result"
    }
   ],
   "source": [
    "df_dataset_concat[df_dataset_concat['column_name']=='INCT41_DENCRU_M']['fname'].unique()"
   ]
  },
  {
   "cell_type": "code",
   "execution_count": 22,
   "id": "3b4b83df-53dc-4481-95ee-fe1d7b9ac965",
   "metadata": {},
   "outputs": [
    {
     "data": {
      "text/plain": [
       "array(['INCT41_20201220_003000', 'INCT41_20201220_013000',\n",
       "       'INCT41_20201220_023000', 'INCT41_20201220_043000'], dtype=object)"
      ]
     },
     "execution_count": 22,
     "metadata": {},
     "output_type": "execute_result"
    }
   ],
   "source": [
    "df_dataset_concat[df_dataset_concat['column_name']=='INCT41_PHYMAR_C']['fname'].unique()"
   ]
  },
  {
   "cell_type": "code",
   "execution_count": 23,
   "id": "ee1d7e1c-b83f-42e7-bb79-b65eba3bd5f1",
   "metadata": {},
   "outputs": [
    {
     "data": {
      "text/plain": [
       "array(['INCT41_20201015_223000', 'INCT41_20201220_053000',\n",
       "       'INCT41_20201220_193000'], dtype=object)"
      ]
     },
     "execution_count": 23,
     "metadata": {},
     "output_type": "execute_result"
    }
   ],
   "source": [
    "df_dataset_concat[df_dataset_concat['column_name']=='INCT41_PHYMAR_M']['fname'].unique()"
   ]
  },
  {
   "cell_type": "code",
   "execution_count": 24,
   "id": "da9cac65-a846-4583-ac91-74f45c94bd42",
   "metadata": {},
   "outputs": [
    {
     "data": {
      "text/plain": [
       "array(['INCT41_20201021_000000', 'INCT41_20201220_023000'], dtype=object)"
      ]
     },
     "execution_count": 24,
     "metadata": {},
     "output_type": "execute_result"
    }
   ],
   "source": [
    "df_dataset_concat[df_dataset_concat['column_name']=='INCT41_PITAZU_M']['fname'].unique()"
   ]
  },
  {
   "cell_type": "code",
   "execution_count": null,
   "id": "34cbd79e-9710-47cd-a99b-716b07ea7b73",
   "metadata": {},
   "outputs": [],
   "source": [
    "# Binary BOAFAB\n",
    "wl = 3\n",
    "sr = 22050\n",
    "flims = (100,2000)\n",
    "verbose = False # Doubt about use this term\n",
    "recordings_folder = 'data/INCT20955/raw/recordings/'\n",
    "annotation_path = 'data/INCT20955/raw/annotations/'\n",
    "path_save = 'data/datasetv1/binary_boafab_1'\n",
    "prefix='SAMPLE_'\n",
    "labels_cols = ['BOAFAB_M','BOAFAB_C'] # looks like multiclass but ends like binary\n",
    "site=['INCT20955']\n",
    "\n",
    "start = time.time()\n",
    "df_boafab_binary_dataset = build_dataset(wav_path=recordings_folder, \n",
    "                                                  annotation_path=annotation_path, \n",
    "                                                  wl=wl, \n",
    "                                                  site=site,\n",
    "                                                  target_sr=sr, \n",
    "                                                  flims=flims,\n",
    "                                                  path_save=path_save, \n",
    "                                                  prefix=prefix, \n",
    "                                                  labels_cols=labels_cols,\n",
    "                                                  verbose=verbose)\n",
    "end = time.time()\n",
    "print(round((end - start)/60,1),' minutes')"
   ]
  },
  {
   "cell_type": "code",
   "execution_count": null,
   "id": "d2f5fab8-e427-4308-8440-b074e96f8420",
   "metadata": {},
   "outputs": [],
   "source": [
    "# Binary PHYCUV\n",
    "wl = 3\n",
    "sr = 22050\n",
    "flims = (300,2000)\n",
    "verbose=True\n",
    "recordings_folder = 'data/INCT20955/raw/recordings/'\n",
    "annotation_path = 'data/INCT20955/raw/annotations/'\n",
    "path_save='data/datasetv1/binary_phycuv_1'\n",
    "prefix='SAMPLE_'\n",
    "labels_cols = ['PHYCUV_M']\n",
    "site=['INCT20955']\n",
    "\n",
    "start = time.time()\n",
    "df_phycuv_binary_dataset = build_dataset(wav_path=recordings_folder, \n",
    "                                                  annotation_path=annotation_path, \n",
    "                                                  wl=wl, \n",
    "                                                  site=site,\n",
    "                                                  target_sr=sr, \n",
    "                                                  flims=flims,\n",
    "                                                  path_save=path_save, \n",
    "                                                  prefix=prefix, \n",
    "                                                  labels_cols=labels_cols,\n",
    "                                                  verbose=verbose)\n",
    "end = time.time()\n",
    "print(round((end - start)/60,1),' minutes')"
   ]
  },
  {
   "cell_type": "code",
   "execution_count": null,
   "id": "73bcfe04-2818-49cd-95ce-48096d7741f2",
   "metadata": {},
   "outputs": [],
   "source": [
    "# Multiclass\n",
    "wl = 3\n",
    "sr = 22050\n",
    "flims = (1,10000)\n",
    "verbose = False # Doubt about use this term\n",
    "recordings_folder = 'data/INCT41/raw/recordings/'\n",
    "annotation_path = 'data/INCT41/raw/annotations/'\n",
    "path_save='data/datasetv2/multiclass_1'\n",
    "prefix='SAMPLE_'\n",
    "max_duration = 60\n",
    "labels_cols = ['BOAFAB_M','BOAFAB_C','PHYCUV_M']\n",
    "site=['INCT20955','INCT4']\n",
    "\n",
    "start = time.time()\n",
    "df_boafab_multiclass_1 = build_dataset(wav_path=recordings_folder, \n",
    "                                                  annotation_path=annotation_path, \n",
    "                                                  wl=wl, \n",
    "                                                  site=site,\n",
    "                                                  target_sr=sr, \n",
    "                                                  flims=flims,\n",
    "                                                  path_save=path_save, \n",
    "                                                  prefix=prefix, \n",
    "                                                  labels_cols=labels_cols,\n",
    "                                                  verbose=verbose)\n",
    "end = time.time()\n",
    "print(round((end - start)/60,1),' minutes')"
   ]
  }
 ],
 "metadata": {
  "kernelspec": {
   "display_name": "Python trans_env",
   "language": "python",
   "name": "trans_env"
  },
  "language_info": {
   "codemirror_mode": {
    "name": "ipython",
    "version": 3
   },
   "file_extension": ".py",
   "mimetype": "text/x-python",
   "name": "python",
   "nbconvert_exporter": "python",
   "pygments_lexer": "ipython3",
   "version": "3.8.13"
  }
 },
 "nbformat": 4,
 "nbformat_minor": 5
}
