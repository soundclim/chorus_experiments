{
 "cells": [
  {
   "cell_type": "code",
   "execution_count": 1,
   "id": "8cb66344-589a-4490-b79b-f2ba88130f00",
   "metadata": {},
   "outputs": [],
   "source": [
    "import numpy as np\n",
    "import pandas as pd\n",
    "\n",
    "from preprocessing import build_binary_dataset\n",
    "\n",
    "pd.options.mode.chained_assignment = None "
   ]
  },
  {
   "cell_type": "code",
   "execution_count": null,
   "id": "d080a4e1-3ef9-41f7-87fd-becc87464ed7",
   "metadata": {},
   "outputs": [
    {
     "name": "stderr",
     "output_type": "stream",
     "text": [
      "0it [00:00, ?it/s]/anaconda/envs/gibbons_env/lib/python3.6/site-packages/maad/sound/input_output.py:113: WavFileWarning: Chunk (non-data) not understood, skipping it.\n",
      "  fs, s = wavfile.read(filename)\n",
      "371it [01:48,  4.15it/s]/anaconda/envs/gibbons_env/lib/python3.6/site-packages/maad/sound/input_output.py:113: WavFileWarning: Reached EOF prematurely; finished at 5046272 bytes, expected 5293636 bytes from header.\n",
      "  fs, s = wavfile.read(filename)\n",
      "1103it [05:19,  3.76it/s]"
     ]
    }
   ],
   "source": [
    "# Binary BOAFAB\n",
    "wl = 3\n",
    "sr = 22050\n",
    "flims = (100,2000)\n",
    "verbose = False # Doubt about use this term\n",
    "recordings_folder = 'data/INCT20955/raw/recordings/'\n",
    "annotation_path = 'data/INCT20955/raw/annotations/'\n",
    "path_save='data/datasetv1/binary_boafab_1'\n",
    "prefix='SAMPLE_'\n",
    "max_duration = 60\n",
    "labels_cols = ['BOAFAB_M']\n",
    "site=['INCT20955']\n",
    "\n",
    "df_boafab_binary_dataset = build_binary_dataset(wav_path=recordings_folder, \n",
    "                                                  annotation_path=annotation_path, \n",
    "                                                  wl=wl, \n",
    "                                                  max_duration=max_duration,\n",
    "                                                  site=site,\n",
    "                                                  target_sr=sr, \n",
    "                                                  flims=flims,\n",
    "                                                  path_save=path_save, \n",
    "                                                  prefix=prefix, \n",
    "                                                  labels_cols=labels_cols,\n",
    "                                                  verbose=verbose)"
   ]
  },
  {
   "cell_type": "code",
   "execution_count": null,
   "id": "9abe921a-e054-47a2-b9d0-b454cb4d42f4",
   "metadata": {},
   "outputs": [],
   "source": [
    "fs"
   ]
  },
  {
   "cell_type": "code",
   "execution_count": null,
   "id": "3de8a760-e1bb-4d63-92be-9a8e6fe44b7b",
   "metadata": {},
   "outputs": [],
   "source": []
  },
  {
   "cell_type": "code",
   "execution_count": null,
   "id": "d2f5fab8-e427-4308-8440-b074e96f8420",
   "metadata": {},
   "outputs": [],
   "source": [
    "# Binary PHYCUV\n",
    "wl = 3\n",
    "sr = 22050\n",
    "flims = (300,2000)\n",
    "verbose=True\n",
    "recordings_folder = 'data/INCT20955/raw/recordings/'\n",
    "annotation_path = 'data/INCT20955/raw/annotations/'\n",
    "path_save='data/INCT20955/datasetv1/binary_phycuv_1'\n",
    "prefix='SAMPLE_'\n",
    "max_duration = 60\n",
    "labels_cols = ['PHYCUV_M']\n",
    "site=['INCT20955']\n",
    "\n",
    "df_phycuv_binary_dataset = build_binary_dataset(wav_path=recordings_folder, \n",
    "                                                  annotation_path=annotation_path, \n",
    "                                                  wl=wl, \n",
    "                                                  max_duration=max_duration,\n",
    "                                                  site=site,\n",
    "                                                  target_sr=sr, \n",
    "                                                  flims=flims,\n",
    "                                                  path_save=path_save, \n",
    "                                                  prefix=prefix, \n",
    "                                                  labels_cols=labels_cols,\n",
    "                                                  verbose=verbose)"
   ]
  },
  {
   "cell_type": "code",
   "execution_count": null,
   "id": "335d28ac-5114-4a9f-ac40-70d029bdd7c1",
   "metadata": {},
   "outputs": [],
   "source": []
  },
  {
   "cell_type": "code",
   "execution_count": null,
   "id": "73bcfe04-2818-49cd-95ce-48096d7741f2",
   "metadata": {},
   "outputs": [],
   "source": [
    "# Multiclass\n",
    "wl = 3\n",
    "sr = 22050\n",
    "flims = (0,10000)\n",
    "verbose = True\n",
    "\n",
    "recordings_folder = 'data/INCT20955/raw/recordings/'\n",
    "annotation_path = 'data/INCT20955/raw/annotations/'\n",
    "path_save='data/INCT20955/datasetv1/'\n",
    "prefix='SAMPLE_'\n",
    "max_duration = 60\n",
    "labels_cols = ['BOAFAB_M']\n",
    "site=['INCT20955']\n",
    "\n",
    "\n",
    "build_dataset(wav_path=recordings_folder, annotation_path=annotation_path, wl=wls, target_sr=sr, flims=flims,\n",
    "                  path_save=path_save, prefix=prefix, verbose=verbose)"
   ]
  },
  {
   "cell_type": "code",
   "execution_count": null,
   "id": "7899b0c7-d20a-4b82-978f-bba1cf4b3197",
   "metadata": {},
   "outputs": [],
   "source": []
  }
 ],
 "metadata": {
  "kernelspec": {
   "display_name": "Python gibbons_env",
   "language": "python",
   "name": "gibbons_env"
  },
  "language_info": {
   "codemirror_mode": {
    "name": "ipython",
    "version": 3
   },
   "file_extension": ".py",
   "mimetype": "text/x-python",
   "name": "python",
   "nbconvert_exporter": "python",
   "pygments_lexer": "ipython3",
   "version": "3.6.13"
  }
 },
 "nbformat": 4,
 "nbformat_minor": 5
}
