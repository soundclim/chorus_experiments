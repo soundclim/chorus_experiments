{
 "cells": [
  {
   "cell_type": "code",
   "execution_count": 1,
   "id": "8cb66344-589a-4490-b79b-f2ba88130f00",
   "metadata": {},
   "outputs": [],
   "source": [
    "import time\n",
    "\n",
    "import numpy as np\n",
    "import pandas as pd\n",
    "\n",
    "from preprocessing import build_dataset\n",
    "\n",
    "pd.options.mode.chained_assignment = None "
   ]
  },
  {
   "cell_type": "code",
   "execution_count": 2,
   "id": "d080a4e1-3ef9-41f7-87fd-becc87464ed7",
   "metadata": {},
   "outputs": [
    {
     "name": "stderr",
     "output_type": "stream",
     "text": [
      "0it [00:00, ?it/s]/anaconda/envs/gibbons_env/lib/python3.6/site-packages/maad/sound/input_output.py:113: WavFileWarning: Chunk (non-data) not understood, skipping it.\n",
      "  fs, s = wavfile.read(filename)\n",
      "451it [01:44,  3.99it/s]/anaconda/envs/gibbons_env/lib/python3.6/site-packages/maad/sound/input_output.py:113: WavFileWarning: Reached EOF prematurely; finished at 5046272 bytes, expected 5293636 bytes from header.\n",
      "  fs, s = wavfile.read(filename)\n",
      "3132it [14:08,  3.69it/s]\n"
     ]
    },
    {
     "name": "stdout",
     "output_type": "stream",
     "text": [
      "Datased created in: data/datasetv1/binary_boafab_1\n",
      "18  minutes\n"
     ]
    }
   ],
   "source": [
    "# Binary BOAFAB\n",
    "wl = 3\n",
    "sr = 22050\n",
    "flims = (100,2000)\n",
    "verbose = False # Doubt about use this term\n",
    "recordings_folder = 'data/INCT20955/raw/recordings/'\n",
    "annotation_path = 'data/INCT20955/raw/annotations/'\n",
    "path_save = 'data/datasetv1/binary_boafab_1'\n",
    "prefix='SAMPLE_'\n",
    "labels_cols = ['BOAFAB_M','BOAFAB_C'] # looks like multiclass but ends like binary\n",
    "site=['INCT20955']\n",
    "\n",
    "start = time.time()\n",
    "df_boafab_binary_dataset = build_dataset(wav_path=recordings_folder, \n",
    "                                                  annotation_path=annotation_path, \n",
    "                                                  wl=wl, \n",
    "                                                  site=site,\n",
    "                                                  target_sr=sr, \n",
    "                                                  flims=flims,\n",
    "                                                  path_save=path_save, \n",
    "                                                  prefix=prefix, \n",
    "                                                  labels_cols=labels_cols,\n",
    "                                                  verbose=verbose)\n",
    "end = time.time()\n",
    "print(round((end - start)/60,1),' minutes')"
   ]
  },
  {
   "cell_type": "code",
   "execution_count": 3,
   "id": "d2f5fab8-e427-4308-8440-b074e96f8420",
   "metadata": {},
   "outputs": [
    {
     "name": "stderr",
     "output_type": "stream",
     "text": [
      "0it [00:00, ?it/s]/anaconda/envs/gibbons_env/lib/python3.6/site-packages/maad/sound/input_output.py:113: WavFileWarning: Chunk (non-data) not understood, skipping it.\n",
      "  fs, s = wavfile.read(filename)\n",
      "340it [01:17,  4.37it/s]\n"
     ]
    },
    {
     "name": "stdout",
     "output_type": "stream",
     "text": [
      "Datased created in: data/datasetv1/binary_phycuv_1\n",
      "3  minutes\n"
     ]
    }
   ],
   "source": [
    "# Binary PHYCUV\n",
    "wl = 3\n",
    "sr = 22050\n",
    "flims = (300,2000)\n",
    "verbose=True\n",
    "recordings_folder = 'data/INCT20955/raw/recordings/'\n",
    "annotation_path = 'data/INCT20955/raw/annotations/'\n",
    "path_save='data/datasetv1/binary_phycuv_1'\n",
    "prefix='SAMPLE_'\n",
    "labels_cols = ['PHYCUV_M']\n",
    "site=['INCT20955']\n",
    "\n",
    "start = time.time()\n",
    "df_phycuv_binary_dataset = build_dataset(wav_path=recordings_folder, \n",
    "                                                  annotation_path=annotation_path, \n",
    "                                                  wl=wl, \n",
    "                                                  site=site,\n",
    "                                                  target_sr=sr, \n",
    "                                                  flims=flims,\n",
    "                                                  path_save=path_save, \n",
    "                                                  prefix=prefix, \n",
    "                                                  labels_cols=labels_cols,\n",
    "                                                  verbose=verbose)\n",
    "end = time.time()\n",
    "print(round((end - start)/60,1),' minutes')"
   ]
  },
  {
   "cell_type": "code",
   "execution_count": 5,
   "id": "73bcfe04-2818-49cd-95ce-48096d7741f2",
   "metadata": {},
   "outputs": [
    {
     "name": "stderr",
     "output_type": "stream",
     "text": [
      "0it [00:00, ?it/s]/anaconda/envs/gibbons_env/lib/python3.6/site-packages/maad/sound/input_output.py:113: WavFileWarning: Chunk (non-data) not understood, skipping it.\n",
      "  fs, s = wavfile.read(filename)\n",
      "536it [01:54,  3.92it/s]/anaconda/envs/gibbons_env/lib/python3.6/site-packages/maad/sound/input_output.py:113: WavFileWarning: Reached EOF prematurely; finished at 5046272 bytes, expected 5293636 bytes from header.\n",
      "  fs, s = wavfile.read(filename)\n",
      "3472it [15:23,  3.76it/s]\n"
     ]
    },
    {
     "name": "stdout",
     "output_type": "stream",
     "text": [
      "Datased created in: data/datasetv1/multiclass_1\n",
      "19.44  minutes\n"
     ]
    }
   ],
   "source": [
    "# Multiclass\n",
    "wl = 3\n",
    "sr = 22050\n",
    "flims = (1,10000)\n",
    "verbose = False # Doubt about use this term\n",
    "recordings_folder = 'data/INCT20955/raw/recordings/'\n",
    "annotation_path = 'data/INCT20955/raw/annotations/'\n",
    "path_save='data/datasetv1/multiclass_1'\n",
    "prefix='SAMPLE_'\n",
    "max_duration = 60\n",
    "labels_cols = ['BOAFAB_M','BOAFAB_C','PHYCUV_M']\n",
    "site=['INCT20955']\n",
    "\n",
    "start = time.time()\n",
    "df_boafab_multiclass_1 = build_dataset(wav_path=recordings_folder, \n",
    "                                                  annotation_path=annotation_path, \n",
    "                                                  wl=wl, \n",
    "                                                  site=site,\n",
    "                                                  target_sr=sr, \n",
    "                                                  flims=flims,\n",
    "                                                  path_save=path_save, \n",
    "                                                  prefix=prefix, \n",
    "                                                  labels_cols=labels_cols,\n",
    "                                                  verbose=verbose)\n",
    "end = time.time()\n",
    "print(round((end - start)/60,1),' minutes')"
   ]
  },
  {
   "cell_type": "code",
   "execution_count": null,
   "id": "a26fee16-cd22-4037-9547-a0cf63bd1c2c",
   "metadata": {},
   "outputs": [],
   "source": []
  }
 ],
 "metadata": {
  "kernelspec": {
   "display_name": "Python gibbons_env",
   "language": "python",
   "name": "gibbons_env"
  },
  "language_info": {
   "codemirror_mode": {
    "name": "ipython",
    "version": 3
   },
   "file_extension": ".py",
   "mimetype": "text/x-python",
   "name": "python",
   "nbconvert_exporter": "python",
   "pygments_lexer": "ipython3",
   "version": "3.6.13"
  }
 },
 "nbformat": 4,
 "nbformat_minor": 5
}
